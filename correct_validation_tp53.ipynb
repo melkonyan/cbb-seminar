{
 "cells": [
  {
   "cell_type": "code",
   "execution_count": 3,
   "id": "99efca83-5833-4136-b9e6-e32274c486dd",
   "metadata": {},
   "outputs": [],
   "source": [
    "import pandas as pd\n",
    "import matplotlib.pylab as plt\n",
    "import numpy as np\n"
   ]
  },
  {
   "cell_type": "code",
   "execution_count": 4,
   "id": "5b0a3ce3-7427-4d75-8083-11f7587387ff",
   "metadata": {},
   "outputs": [],
   "source": [
    "data = pd.read_csv('data/mutagenesisSet_annotated.csv')\n",
    "#data = data[data.snap2score.isnull() == False]"
   ]
  },
  {
   "cell_type": "code",
   "execution_count": 6,
   "id": "a7293c93-005a-471d-9ad7-65140432aaa5",
   "metadata": {},
   "outputs": [],
   "source": [
    "tp53 = data[data.Protein == 'TP53']"
   ]
  },
  {
   "cell_type": "code",
   "execution_count": 13,
   "id": "74d3a006-ff37-40f3-9b19-a42f4cdc50a9",
   "metadata": {},
   "outputs": [
    {
     "data": {
      "text/plain": [
       "Index(['Unnamed: 0', 'X', 'Protein', 'uniprot_id', 'mutation', 'id',\n",
       "       'Activity', 'effect', 'effect2', 'aa1', 'aa2', 'pos', 'SNAP2_class',\n",
       "       'SNAP2_score', 'id2', 'WT_Mut', 'Variant', 'aa1_polarity',\n",
       "       'aa2_polarity', 'aa1_PI', 'aa2_PI', 'deltaPI', 'aa1_weight',\n",
       "       'aa2_weight', 'deltaWeight', 'aa1vol', 'aa2vol', 'deltavolume',\n",
       "       'Grantham', 'aa1_psic', 'aa2_psic', 'delta_psic', 'accessibility',\n",
       "       'dssp_sec_str', 'phi_psi_reg', 'delta_solvent_accessibility',\n",
       "       'b_factor', 'mut_msa_congruency', 'mut_mut_msa_congruency',\n",
       "       'seq_ind_closest_mut', 'evolutionary_coupling_avg',\n",
       "       'evolutionary_coupling_prop', 'evolutionary_coupling_avg_norm',\n",
       "       'selection_coefficient'],\n",
       "      dtype='object')"
      ]
     },
     "execution_count": 13,
     "metadata": {},
     "output_type": "execute_result"
    }
   ],
   "source": [
    "tp53.columns"
   ]
  },
  {
   "cell_type": "code",
   "execution_count": 16,
   "id": "fbf1602d-63d8-4245-b718-295a1760b376",
   "metadata": {},
   "outputs": [
    {
     "name": "stderr",
     "output_type": "stream",
     "text": [
      "<ipython-input-16-1f2d80039257>:1: SettingWithCopyWarning: \n",
      "A value is trying to be set on a copy of a slice from a DataFrame.\n",
      "Try using .loc[row_indexer,col_indexer] = value instead\n",
      "\n",
      "See the caveats in the documentation: https://pandas.pydata.org/pandas-docs/stable/user_guide/indexing.html#returning-a-view-versus-a-copy\n",
      "  tp53['Activity']=pd.to_numeric(tp53['Activity'])\n"
     ]
    }
   ],
   "source": [
    "tp53['Activity']=pd.to_numeric(tp53['Activity'])"
   ]
  },
  {
   "cell_type": "code",
   "execution_count": 17,
   "id": "2154bf87-9783-47af-adc6-dad5322102ad",
   "metadata": {},
   "outputs": [
    {
     "data": {
      "text/plain": [
       "<matplotlib.axes._subplots.AxesSubplot at 0x7f56afbbd070>"
      ]
     },
     "execution_count": 17,
     "metadata": {},
     "output_type": "execute_result"
    },
    {
     "data": {
      "image/png": "[encoded data removed]",
      "text/plain": [
       "<Figure size 432x288 with 1 Axes>"
      ]
     },
     "metadata": {
      "needs_background": "light"
     },
     "output_type": "display_data"
    }
   ],
   "source": [
    "tp53.Activity.hist()"
   ]
  },
  {
   "cell_type": "code",
   "execution_count": 18,
   "id": "4cd076c6-b360-4e9c-b3c2-121cc57bbf02",
   "metadata": {},
   "outputs": [
    {
     "data": {
      "text/plain": [
       "other       1621\n",
       "damaging     691\n",
       "Name: effect, dtype: int64"
      ]
     },
     "execution_count": 18,
     "metadata": {},
     "output_type": "execute_result"
    }
   ],
   "source": [
    "tp53.effect.value_counts()"
   ]
  },
  {
   "cell_type": "code",
   "execution_count": 19,
   "id": "426744a5-61a5-4655-957f-e8c0336ebc7e",
   "metadata": {},
   "outputs": [
    {
     "data": {
      "text/plain": [
       "<matplotlib.axes._subplots.AxesSubplot at 0x7f56af95ffd0>"
      ]
     },
     "execution_count": 19,
     "metadata": {},
     "output_type": "execute_result"
    },
    {
     "data": {
      "image/png": "[encoded data removed]",
      "text/plain": [
       "<Figure size 432x288 with 1 Axes>"
      ]
     },
     "metadata": {
      "needs_background": "light"
     },
     "output_type": "display_data"
    }
   ],
   "source": [
    "tp53[tp53.effect == 'other'].Activity.hist()"
   ]
  },
  {
   "cell_type": "code",
   "execution_count": 20,
   "id": "53afe1f8-b529-4ba3-8116-365cde7faffd",
   "metadata": {},
   "outputs": [
    {
     "data": {
      "text/plain": [
       "<matplotlib.axes._subplots.AxesSubplot at 0x7f56af95fd90>"
      ]
     },
     "execution_count": 20,
     "metadata": {},
     "output_type": "execute_result"
    },
    {
     "data": {
      "image/png": "[encoded data removed]",
      "text/plain": [
       "<Figure size 432x288 with 1 Axes>"
      ]
     },
     "metadata": {
      "needs_background": "light"
     },
     "output_type": "display_data"
    }
   ],
   "source": [
    "tp53[tp53.effect == 'damaging'].Activity.hist()"
   ]
  },
  {
   "cell_type": "code",
   "execution_count": 21,
   "id": "c6a2a526-0d02-4146-ad5a-5a576b8f210d",
   "metadata": {},
   "outputs": [
    {
     "data": {
      "text/plain": [
       "<matplotlib.axes._subplots.AxesSubplot at 0x7f56af831280>"
      ]
     },
     "execution_count": 21,
     "metadata": {},
     "output_type": "execute_result"
    },
    {
     "data": {
      "image/png": "[encoded data removed]",
      "text/plain": [
       "<Figure size 432x288 with 1 Axes>"
      ]
     },
     "metadata": {
      "needs_background": "light"
     },
     "output_type": "display_data"
    }
   ],
   "source": [
    "tp53.SNAP2_score.hist()"
   ]
  },
  {
   "cell_type": "code",
   "execution_count": 22,
   "id": "db28690d-4743-4424-a670-40fdfecbcdc5",
   "metadata": {},
   "outputs": [],
   "source": [
    "# SNAP2_score - prediction score\n",
    "# effect2 - binary effect "
   ]
  },
  {
   "cell_type": "code",
   "execution_count": 24,
   "id": "496366a9-49e3-4c99-abad-e78f8cb6cede",
   "metadata": {},
   "outputs": [
    {
     "name": "stderr",
     "output_type": "stream",
     "text": [
      "<ipython-input-24-ab99ea8a9098>:1: SettingWithCopyWarning: \n",
      "A value is trying to be set on a copy of a slice from a DataFrame.\n",
      "Try using .loc[row_indexer,col_indexer] = value instead\n",
      "\n",
      "See the caveats in the documentation: https://pandas.pydata.org/pandas-docs/stable/user_guide/indexing.html#returning-a-view-versus-a-copy\n",
      "  tp53['snap2score_normalized'] = (data.SNAP2_score) + 100 / 200\n"
     ]
    }
   ],
   "source": [
    "tp53['snap2score_normalized'] = (data.SNAP2_score) + 100 / 200"
   ]
  },
  {
   "cell_type": "code",
   "execution_count": 25,
   "id": "73d30246-008f-455e-8c1b-641771cc076a",
   "metadata": {},
   "outputs": [
    {
     "name": "stderr",
     "output_type": "stream",
     "text": [
      "<ipython-input-25-e783358980f5>:1: SettingWithCopyWarning: \n",
      "A value is trying to be set on a copy of a slice from a DataFrame.\n",
      "Try using .loc[row_indexer,col_indexer] = value instead\n",
      "\n",
      "See the caveats in the documentation: https://pandas.pydata.org/pandas-docs/stable/user_guide/indexing.html#returning-a-view-versus-a-copy\n",
      "  tp53['effect_numeric'] = (tp53.effect == 'damaging')\n"
     ]
    }
   ],
   "source": [
    "tp53['effect_numeric'] = (tp53.effect == 'damaging')"
   ]
  },
  {
   "cell_type": "code",
   "execution_count": 26,
   "id": "2a74693e-d61e-4a21-8f00-77712f93c416",
   "metadata": {},
   "outputs": [
    {
     "name": "stdout",
     "output_type": "stream",
     "text": [
      "AUC: 0.833\n"
     ]
    }
   ],
   "source": [
    "from sklearn.metrics import roc_curve,roc_auc_score\n",
    "\n",
    "fpr, tpr, thresholds = roc_curve(tp53.effect_numeric, tp53.snap2score_normalized)\n",
    "auc = roc_auc_score(tp53.effect_numeric, tp53.snap2score_normalized)\n",
    "print('AUC: %.3f' % auc)"
   ]
  },
  {
   "cell_type": "code",
   "execution_count": 27,
   "id": "46f0534f-f4e4-47e5-bc73-d47aea85ae4c",
   "metadata": {},
   "outputs": [
    {
     "data": {
      "text/plain": [
       "<matplotlib.legend.Legend at 0x7f569806ef70>"
      ]
     },
     "execution_count": 27,
     "metadata": {},
     "output_type": "execute_result"
    },
    {
     "name": "stderr",
     "output_type": "stream",
     "text": [
      "findfont: Font family ['normal'] not found. Falling back to DejaVu Sans.\n"
     ]
    },
    {
     "data": {
      "image/png": "[encoded data removed]",
      "text/plain": [
       "<Figure size 576x576 with 1 Axes>"
      ]
     },
     "metadata": {
      "needs_background": "light"
     },
     "output_type": "display_data"
    }
   ],
   "source": [
    "fig = plt.figure(figsize=(8,8))\n",
    "baseline = np.linspace(0, 1, num=50)\n",
    "ax = fig.add_subplot(111)\n",
    "ax.set_xlabel('fpr')\n",
    "ax.set_ylabel('tpr')\n",
    "font = {'family' : 'normal',\n",
    "        'weight' : 'normal',\n",
    "        'size'   : 18}\n",
    "\n",
    "plt.rc('font', **font)\n",
    "ax.plot(fpr, tpr, label='snap2')\n",
    "ax.plot(baseline, baseline, '--', label='baseline')\n",
    "plt.legend()\n"
   ]
  },
  {
   "cell_type": "code",
   "execution_count": null,
   "id": "64926f4c-5e9e-4d11-a7bf-7dc4f2fcec1b",
   "metadata": {},
   "outputs": [],
   "source": []
  }
 ],
 "metadata": {
  "kernelspec": {
   "display_name": "Python 3",
   "language": "python",
   "name": "python3"
  },
  "language_info": {
   "codemirror_mode": {
    "name": "ipython",
    "version": 3
   },
   "file_extension": ".py",
   "mimetype": "text/x-python",
   "name": "python",
   "nbconvert_exporter": "python",
   "pygments_lexer": "ipython3",
   "version": "3.8.10"
  }
 },
 "nbformat": 4,
 "nbformat_minor": 5
}
