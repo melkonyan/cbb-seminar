{
 "cells": [
  {
   "cell_type": "code",
   "execution_count": 13,
   "id": "99efca83-5833-4136-b9e6-e32274c486dd",
   "metadata": {},
   "outputs": [],
   "source": [
    "import pandas as pd\n",
    "import matplotlib.pylab as plt\n",
    "import numpy as np\n"
   ]
  },
  {
   "cell_type": "code",
   "execution_count": 33,
   "id": "5b0a3ce3-7427-4d75-8083-11f7587387ff",
   "metadata": {},
   "outputs": [],
   "source": [
    "data = pd.read_csv('dmsTraining_2017-02-20.csv')\n",
    "data = data[data.snap2score.isnull() == False]"
   ]
  },
  {
   "cell_type": "code",
   "execution_count": 34,
   "id": "a7293c93-005a-471d-9ad7-65140432aaa5",
   "metadata": {},
   "outputs": [
    {
     "data": {
      "text/html": [
       "<div>\n",
       "<style scoped>\n",
       "    .dataframe tbody tr th:only-of-type {\n",
       "        vertical-align: middle;\n",
       "    }\n",
       "\n",
       "    .dataframe tbody tr th {\n",
       "        vertical-align: top;\n",
       "    }\n",
       "\n",
       "    .dataframe thead th {\n",
       "        text-align: right;\n",
       "    }\n",
       "</style>\n",
       "<table border=\"1\" class=\"dataframe\">\n",
       "  <thead>\n",
       "    <tr style=\"text-align: right;\">\n",
       "      <th></th>\n",
       "      <th>id3</th>\n",
       "      <th>variant_id</th>\n",
       "      <th>dms_id</th>\n",
       "      <th>first_author</th>\n",
       "      <th>protein</th>\n",
       "      <th>id</th>\n",
       "      <th>snap2score</th>\n",
       "      <th>protein_size</th>\n",
       "      <th>assay_type</th>\n",
       "      <th>organism</th>\n",
       "      <th>...</th>\n",
       "      <th>seq_ind_closest_mut</th>\n",
       "      <th>scaled_effect1</th>\n",
       "      <th>selection_coefficient</th>\n",
       "      <th>evolutionary_coupling_avg</th>\n",
       "      <th>evolutionary_coupling_prop</th>\n",
       "      <th>evolutionary_coupling_avg_norm</th>\n",
       "      <th>discrete</th>\n",
       "      <th>discrete_dam</th>\n",
       "      <th>discrete_neutral</th>\n",
       "      <th>discrete_enhancing</th>\n",
       "    </tr>\n",
       "  </thead>\n",
       "  <tbody>\n",
       "    <tr>\n",
       "      <th>0</th>\n",
       "      <td>P62593_20</td>\n",
       "      <td>beta-lactamase_P20P</td>\n",
       "      <td>beta-lactamase</td>\n",
       "      <td>Firnberg</td>\n",
       "      <td>TEM-1</td>\n",
       "      <td>TEM-1_P20P</td>\n",
       "      <td>-80.0</td>\n",
       "      <td>286</td>\n",
       "      <td>in_vivo</td>\n",
       "      <td>E. coli</td>\n",
       "      <td>...</td>\n",
       "      <td>NaN</td>\n",
       "      <td>1.581033</td>\n",
       "      <td>0.221619</td>\n",
       "      <td>0.002353</td>\n",
       "      <td>0.0</td>\n",
       "      <td>0.122698</td>\n",
       "      <td>enhancing</td>\n",
       "      <td>other</td>\n",
       "      <td>other</td>\n",
       "      <td>enhancing</td>\n",
       "    </tr>\n",
       "    <tr>\n",
       "      <th>1</th>\n",
       "      <td>P62593_207</td>\n",
       "      <td>beta-lactamase_D207D</td>\n",
       "      <td>beta-lactamase</td>\n",
       "      <td>Firnberg</td>\n",
       "      <td>TEM-1</td>\n",
       "      <td>TEM-1_D207D</td>\n",
       "      <td>-93.0</td>\n",
       "      <td>286</td>\n",
       "      <td>in_vivo</td>\n",
       "      <td>E. coli</td>\n",
       "      <td>...</td>\n",
       "      <td>NaN</td>\n",
       "      <td>1.425631</td>\n",
       "      <td>0.221619</td>\n",
       "      <td>0.005929</td>\n",
       "      <td>0.0</td>\n",
       "      <td>0.309164</td>\n",
       "      <td>enhancing</td>\n",
       "      <td>other</td>\n",
       "      <td>other</td>\n",
       "      <td>enhancing</td>\n",
       "    </tr>\n",
       "    <tr>\n",
       "      <th>2</th>\n",
       "      <td>P62593_215</td>\n",
       "      <td>beta-lactamase_A215A</td>\n",
       "      <td>beta-lactamase</td>\n",
       "      <td>Firnberg</td>\n",
       "      <td>TEM-1</td>\n",
       "      <td>TEM-1_A215A</td>\n",
       "      <td>-79.0</td>\n",
       "      <td>286</td>\n",
       "      <td>in_vivo</td>\n",
       "      <td>E. coli</td>\n",
       "      <td>...</td>\n",
       "      <td>NaN</td>\n",
       "      <td>1.422813</td>\n",
       "      <td>0.221619</td>\n",
       "      <td>0.005440</td>\n",
       "      <td>0.0</td>\n",
       "      <td>0.283649</td>\n",
       "      <td>enhancing</td>\n",
       "      <td>other</td>\n",
       "      <td>other</td>\n",
       "      <td>enhancing</td>\n",
       "    </tr>\n",
       "    <tr>\n",
       "      <th>3</th>\n",
       "      <td>P62593_75</td>\n",
       "      <td>beta-lactamase_C75C</td>\n",
       "      <td>beta-lactamase</td>\n",
       "      <td>Firnberg</td>\n",
       "      <td>TEM-1</td>\n",
       "      <td>TEM-1_C75C</td>\n",
       "      <td>-98.0</td>\n",
       "      <td>286</td>\n",
       "      <td>in_vivo</td>\n",
       "      <td>E. coli</td>\n",
       "      <td>...</td>\n",
       "      <td>NaN</td>\n",
       "      <td>1.415532</td>\n",
       "      <td>0.221619</td>\n",
       "      <td>0.003462</td>\n",
       "      <td>0.0</td>\n",
       "      <td>0.180490</td>\n",
       "      <td>enhancing</td>\n",
       "      <td>other</td>\n",
       "      <td>other</td>\n",
       "      <td>enhancing</td>\n",
       "    </tr>\n",
       "    <tr>\n",
       "      <th>4</th>\n",
       "      <td>P62593_134</td>\n",
       "      <td>beta-lactamase_N134N</td>\n",
       "      <td>beta-lactamase</td>\n",
       "      <td>Firnberg</td>\n",
       "      <td>TEM-1</td>\n",
       "      <td>TEM-1_N134N</td>\n",
       "      <td>-68.0</td>\n",
       "      <td>286</td>\n",
       "      <td>in_vivo</td>\n",
       "      <td>E. coli</td>\n",
       "      <td>...</td>\n",
       "      <td>NaN</td>\n",
       "      <td>1.396966</td>\n",
       "      <td>0.221619</td>\n",
       "      <td>0.000645</td>\n",
       "      <td>0.0</td>\n",
       "      <td>0.033620</td>\n",
       "      <td>enhancing</td>\n",
       "      <td>other</td>\n",
       "      <td>other</td>\n",
       "      <td>enhancing</td>\n",
       "    </tr>\n",
       "  </tbody>\n",
       "</table>\n",
       "<p>5 rows × 54 columns</p>\n",
       "</div>"
      ],
      "text/plain": [
       "          id3            variant_id          dms_id first_author protein  \\\n",
       "0   P62593_20   beta-lactamase_P20P  beta-lactamase     Firnberg   TEM-1   \n",
       "1  P62593_207  beta-lactamase_D207D  beta-lactamase     Firnberg   TEM-1   \n",
       "2  P62593_215  beta-lactamase_A215A  beta-lactamase     Firnberg   TEM-1   \n",
       "3   P62593_75   beta-lactamase_C75C  beta-lactamase     Firnberg   TEM-1   \n",
       "4  P62593_134  beta-lactamase_N134N  beta-lactamase     Firnberg   TEM-1   \n",
       "\n",
       "            id  snap2score  protein_size assay_type organism  ...  \\\n",
       "0   TEM-1_P20P       -80.0           286    in_vivo  E. coli  ...   \n",
       "1  TEM-1_D207D       -93.0           286    in_vivo  E. coli  ...   \n",
       "2  TEM-1_A215A       -79.0           286    in_vivo  E. coli  ...   \n",
       "3   TEM-1_C75C       -98.0           286    in_vivo  E. coli  ...   \n",
       "4  TEM-1_N134N       -68.0           286    in_vivo  E. coli  ...   \n",
       "\n",
       "  seq_ind_closest_mut scaled_effect1 selection_coefficient  \\\n",
       "0                 NaN       1.581033              0.221619   \n",
       "1                 NaN       1.425631              0.221619   \n",
       "2                 NaN       1.422813              0.221619   \n",
       "3                 NaN       1.415532              0.221619   \n",
       "4                 NaN       1.396966              0.221619   \n",
       "\n",
       "   evolutionary_coupling_avg evolutionary_coupling_prop  \\\n",
       "0                   0.002353                        0.0   \n",
       "1                   0.005929                        0.0   \n",
       "2                   0.005440                        0.0   \n",
       "3                   0.003462                        0.0   \n",
       "4                   0.000645                        0.0   \n",
       "\n",
       "  evolutionary_coupling_avg_norm   discrete discrete_dam  discrete_neutral  \\\n",
       "0                       0.122698  enhancing        other             other   \n",
       "1                       0.309164  enhancing        other             other   \n",
       "2                       0.283649  enhancing        other             other   \n",
       "3                       0.180490  enhancing        other             other   \n",
       "4                       0.033620  enhancing        other             other   \n",
       "\n",
       "  discrete_enhancing  \n",
       "0          enhancing  \n",
       "1          enhancing  \n",
       "2          enhancing  \n",
       "3          enhancing  \n",
       "4          enhancing  \n",
       "\n",
       "[5 rows x 54 columns]"
      ]
     },
     "execution_count": 34,
     "metadata": {},
     "output_type": "execute_result"
    }
   ],
   "source": [
    "data.head()"
   ]
  },
  {
   "cell_type": "code",
   "execution_count": 29,
   "id": "74d3a006-ff37-40f3-9b19-a42f4cdc50a9",
   "metadata": {},
   "outputs": [
    {
     "data": {
      "text/plain": [
       "id3                               8483\n",
       "variant_id                        8483\n",
       "dms_id                            8483\n",
       "first_author                      8483\n",
       "protein                           8483\n",
       "id                                8483\n",
       "snap2score                           0\n",
       "protein_size                      8483\n",
       "assay_type                        8483\n",
       "organism                          8483\n",
       "uniprot_id                        8483\n",
       "pdb_id                             452\n",
       "pdb_chain_id                       150\n",
       "reported_fitness                  8483\n",
       "aa1                               8483\n",
       "aa2                               8483\n",
       "wt_mut                            8460\n",
       "mut_type                          8483\n",
       "position                          8483\n",
       "id2                               8483\n",
       "WT_Mut                            8460\n",
       "Variant                           8483\n",
       "aa1_polarity                      8483\n",
       "aa2_polarity                      8483\n",
       "aa1_PI                            8483\n",
       "aa2_PI                            8483\n",
       "deltaPI                           8483\n",
       "aa1_weight                        8483\n",
       "aa2_weight                        8483\n",
       "deltaWeight                       8483\n",
       "aa1vol                            8483\n",
       "aa2vol                            8483\n",
       "deltavolume                       8483\n",
       "Grantham                          7671\n",
       "aa1_psic                          7615\n",
       "aa2_psic                          7615\n",
       "delta_psic                        7615\n",
       "accessibility                     4966\n",
       "dssp_sec_str                      3594\n",
       "phi_psi_reg                          0\n",
       "delta_solvent_accessibility          0\n",
       "b_factor                          4948\n",
       "mut_msa_congruency                5755\n",
       "mut_mut_msa_congruency            1053\n",
       "seq_ind_closest_mut               5755\n",
       "scaled_effect1                    8483\n",
       "selection_coefficient             8483\n",
       "evolutionary_coupling_avg         8469\n",
       "evolutionary_coupling_prop        8469\n",
       "evolutionary_coupling_avg_norm    8469\n",
       "discrete                           534\n",
       "discrete_dam                      8483\n",
       "discrete_neutral                  8483\n",
       "discrete_enhancing                8483\n",
       "has_effect                        8483\n",
       "snap2score_normalized                0\n",
       "dtype: int64"
      ]
     },
     "execution_count": 29,
     "metadata": {},
     "output_type": "execute_result"
    }
   ],
   "source": []
  },
  {
   "cell_type": "code",
   "execution_count": 35,
   "id": "db28690d-4743-4424-a670-40fdfecbcdc5",
   "metadata": {},
   "outputs": [
    {
     "data": {
      "text/plain": [
       "0   -80.0\n",
       "1   -93.0\n",
       "2   -79.0\n",
       "3   -98.0\n",
       "4   -68.0\n",
       "Name: snap2score, dtype: float64"
      ]
     },
     "execution_count": 35,
     "metadata": {},
     "output_type": "execute_result"
    }
   ],
   "source": [
    "# snap2score - prediction score\n",
    "# scaled_effect - true effect\n",
    "data.snap2score.head()"
   ]
  },
  {
   "cell_type": "code",
   "execution_count": 36,
   "id": "74309403-49c1-421c-8798-0857db9cc381",
   "metadata": {},
   "outputs": [],
   "source": [
    "# assume that effect is present when deviation from the mean is more than one standard deviation\n",
    "data['has_effect'] = np.abs((data.scaled_effect1 - data.scaled_effect1.mean()) / data.scaled_effect1.std()) > 1"
   ]
  },
  {
   "cell_type": "code",
   "execution_count": 37,
   "id": "1a4e4cde-7fb8-4ecb-9baf-0ff3791501d4",
   "metadata": {},
   "outputs": [
    {
     "data": {
      "text/plain": [
       "False    16234\n",
       "True      5551\n",
       "Name: has_effect, dtype: int64"
      ]
     },
     "execution_count": 37,
     "metadata": {},
     "output_type": "execute_result"
    }
   ],
   "source": [
    "data.has_effect.value_counts()"
   ]
  },
  {
   "cell_type": "code",
   "execution_count": 38,
   "id": "496366a9-49e3-4c99-abad-e78f8cb6cede",
   "metadata": {},
   "outputs": [],
   "source": [
    "data['snap2score_normalized'] = (data.snap2score) + 100 / 200"
   ]
  },
  {
   "cell_type": "code",
   "execution_count": 48,
   "id": "2a74693e-d61e-4a21-8f00-77712f93c416",
   "metadata": {},
   "outputs": [
    {
     "name": "stdout",
     "output_type": "stream",
     "text": [
      "AUC: 0.625\n"
     ]
    }
   ],
   "source": [
    "from sklearn.metrics import roc_curve,roc_auc_score\n",
    "\n",
    "fpr, tpr, thresholds = roc_curve(data.has_effect, data.snap2score_normalized)\n",
    "auc = roc_auc_score(data.has_effect, data.snap2score_normalized)\n",
    "print('AUC: %.3f' % auc)"
   ]
  },
  {
   "cell_type": "code",
   "execution_count": 54,
   "id": "46f0534f-f4e4-47e5-bc73-d47aea85ae4c",
   "metadata": {},
   "outputs": [
    {
     "data": {
      "text/plain": [
       "<matplotlib.legend.Legend at 0x7f759719ffa0>"
      ]
     },
     "execution_count": 54,
     "metadata": {},
     "output_type": "execute_result"
    },
    {
     "data": {
      "image/png": "[encoded data removed]",
      "text/plain": [
       "<Figure size 576x576 with 1 Axes>"
      ]
     },
     "metadata": {
      "needs_background": "light"
     },
     "output_type": "display_data"
    }
   ],
   "source": [
    "fig = plt.figure(figsize=(8,8))\n",
    "baseline = np.linspace(0, 1, num=50)\n",
    "ax = fig.add_subplot(111)\n",
    "ax.set_xlabel('False Positive Rate')\n",
    "ax.set_ylabel('True Positive Rate')\n",
    "font = {'family' : 'normal',\n",
    "        'weight' : 'normal',\n",
    "        'size'   : 18}\n",
    "\n",
    "plt.rc('font', **font)\n",
    "ax.plot(fpr, tpr, label='snap2')\n",
    "ax.plot(baseline, baseline, '--', label='baseline')\n",
    "plt.legend()\n"
   ]
  },
  {
   "cell_type": "code",
   "execution_count": null,
   "id": "64926f4c-5e9e-4d11-a7bf-7dc4f2fcec1b",
   "metadata": {},
   "outputs": [],
   "source": []
  }
 ],
 "metadata": {
  "kernelspec": {
   "display_name": "Python 3",
   "language": "python",
   "name": "python3"
  },
  "language_info": {
   "codemirror_mode": {
    "name": "ipython",
    "version": 3
   },
   "file_extension": ".py",
   "mimetype": "text/x-python",
   "name": "python",
   "nbconvert_exporter": "python",
   "pygments_lexer": "ipython3",
   "version": "3.8.10"
  }
 },
 "nbformat": 4,
 "nbformat_minor": 5
}
