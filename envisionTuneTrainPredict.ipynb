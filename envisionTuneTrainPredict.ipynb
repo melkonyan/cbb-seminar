{
 "cells": [
  {
   "cell_type": "code",
   "execution_count": 5,
   "id": "current-masters",
   "metadata": {
    "collapsed": false,
    "deletable": true,
    "editable": true,
    "jupyter": {
     "outputs_hidden": false
    }
   },
   "outputs": [
    {
     "name": "stdout",
     "output_type": "stream",
     "text": [
      "The rpy2.ipython extension is already loaded. To reload it, use:\n",
      "  %reload_ext rpy2.ipython\n"
     ]
    }
   ],
   "source": [
    "## We use graphlab (aka Turi) to tune hyperparameters and train models\n",
    "import turicreate as gl\n",
    "import turicreate.aggregate as agg\n",
    "import sys\n",
    "import pickle   ## Used for saving models\n",
    "\n",
    "## We use pandas, numpy and scipy for data analysis\n",
    "import pandas as pd\n",
    "import numpy as np\n",
    "import scipy.stats.stats as stats\n",
    "%load_ext rpy2.ipython\n",
    "from math import sqrt\n",
    "\n",
    "## sklearn is used for setting up cross validation data sets\n",
    "import itertools\n",
    "from collections import Counter\n",
    "from sklearn import metrics, preprocessing, datasets   #Additional scklearn functions\n",
    "#from sklearn.grid_search import GridSearchCV   #Performing grid search\n",
    "from sklearn.utils import shuffle\n",
    "from sklearn.metrics import mean_squared_error\n",
    "from sklearn.metrics import confusion_matrix\n",
    "#from sklearn.cross_validation import LeaveOneLabelOut\n",
    "\n",
    "## Matplotlib for graphing\n",
    "import matplotlib.pylab as plt\n",
    "%matplotlib inline\n",
    "from matplotlib.pylab import rcParams\n",
    "rcParams['figure.figsize'] = 8, 8\n"
   ]
  },
  {
   "cell_type": "code",
   "execution_count": 6,
   "id": "featured-japan",
   "metadata": {
    "collapsed": false,
    "deletable": true,
    "editable": true,
    "jupyter": {
     "outputs_hidden": false
    }
   },
   "outputs": [
    {
     "data": {
      "text/html": [
       "<pre>Finished parsing file /home/alex/eth/seminar/data/dmsTraining_2017-02-20.csv</pre>"
      ],
      "text/plain": [
       "Finished parsing file /home/alex/eth/seminar/data/dmsTraining_2017-02-20.csv"
      ]
     },
     "metadata": {},
     "output_type": "display_data"
    },
    {
     "data": {
      "text/html": [
       "<pre>Parsing completed. Parsed 100 lines in 0.460191 secs.</pre>"
      ],
      "text/plain": [
       "Parsing completed. Parsed 100 lines in 0.460191 secs."
      ]
     },
     "metadata": {},
     "output_type": "display_data"
    },
    {
     "data": {
      "text/html": [
       "<pre>Finished parsing file /home/alex/eth/seminar/data/dmsTraining_2017-02-20.csv</pre>"
      ],
      "text/plain": [
       "Finished parsing file /home/alex/eth/seminar/data/dmsTraining_2017-02-20.csv"
      ]
     },
     "metadata": {},
     "output_type": "display_data"
    },
    {
     "data": {
      "text/html": [
       "<pre>Parsing completed. Parsed 30268 lines in 0.344009 secs.</pre>"
      ],
      "text/plain": [
       "Parsing completed. Parsed 30268 lines in 0.344009 secs."
      ]
     },
     "metadata": {},
     "output_type": "display_data"
    }
   ],
   "source": [
    "## Read in data\n",
    "## Set your own working directory ## \n",
    "data_1per =  gl.SFrame.read_csv('data/dmsTraining_2017-02-20.csv',column_type_hints={'aa1_psic':float, 'aa2_psic':float, 'delta_psic':float, \n",
    "                                                        'accessibility': float, 'delta_solvent_accessibility':float,\n",
    "                                                        'mut_mut_msa_congruency':float})"
   ]
  },
  {
   "cell_type": "code",
   "execution_count": 7,
   "id": "infectious-condition",
   "metadata": {
    "collapsed": false,
    "deletable": true,
    "editable": true,
    "jupyter": {
     "outputs_hidden": false
    }
   },
   "outputs": [],
   "source": [
    "## Filter data by dataset, missense only and assign IDs to each row\n",
    "data_1per = data_1per.filter_by([x for x in data_1per['dms_id'].unique() if x not in ['CcdB','beta-lactamase_2500', 'beta-lactamase_0', \n",
    "                                                                                      'kka2_1:1','kka2_1:4','kka2_1:8',\n",
    "                                                                     'beta-lactamase_39', 'gal4','hemagglutinin', 'np',\n",
    "                                                                                      'dbr1', 'beta-lactamase_156',\n",
    "                                                                                      'beta-lactamase_625', 'ERK2', \n",
    "                                                                                      'Brca1_HDR','GFP', 'Brca1_E3',\n",
    "                                                                                      'E3_ligase','Brca1_Y2H']], 'dms_id')\n",
    "data_1per2 = data_1per.filter_by([x for x in data_1per['mut_type'].unique() if x in ['missense']], 'mut_type')\n",
    "del data_1per2['id']\n",
    "data_1per2 = data_1per2.add_row_number('id',0)"
   ]
  },
  {
   "cell_type": "code",
   "execution_count": 8,
   "id": "alert-greene",
   "metadata": {
    "deletable": true,
    "editable": true,
    "tags": []
   },
   "outputs": [],
   "source": [
    "## Define feature set\n",
    "predictors3 = ['aa1', 'aa2', 'wt_mut', 'aa1_polarity', \n",
    "               'aa2_polarity', 'aa1_PI', 'aa2_PI', 'deltaPI', \n",
    "               'Grantham', 'aa1_weight', 'aa2_weight', 'deltaWeight',\n",
    "               'aa1vol', 'aa2vol', 'deltavolume', 'aa1_psic',\n",
    "               'aa2_psic', 'delta_psic',  'accessibility',\n",
    "               'dssp_sec_str', 'phi_psi_reg', 'delta_solvent_accessibility',\n",
    "               'b_factor', 'mut_msa_congruency', 'mut_mut_msa_congruency', \n",
    "               'seq_ind_closest_mut', 'evolutionary_coupling_avg']"
   ]
  },
  {
   "cell_type": "code",
   "execution_count": 26,
   "id": "ready-marshall",
   "metadata": {
    "deletable": true,
    "editable": true,
    "tags": []
   },
   "outputs": [],
   "source": [
    "### Create Leave-one-protein-out folds\n",
    "from sklearn.model_selection import LeaveOneOut, LeaveOneGroupOut\n",
    "folds = LeaveOneGroupOut()\n",
    "lopo_folds = []\n",
    "for train, test in folds.split(data_1per2, groups=data_1per2['protein']):\n",
    "    lopo_folds.append((data_1per2.filter_by(train,'id'), data_1per2.filter_by(test,'id')))"
   ]
  },
  {
   "cell_type": "code",
   "execution_count": 27,
   "id": "committed-documentary",
   "metadata": {
    "deletable": true,
    "editable": true
   },
   "outputs": [],
   "source": [
    "### Define Tuning parameters\n",
    "params = dict([('target', 'scaled_effect1'), ('max_depth', 5), ('max_iterations' , [25,50,100]), \n",
    "               ('column_subsample' , .8), ('row_subsample' , .8), ('min_child_weight' , 1), \n",
    "               ('min_loss_reduction' , 0), ('step_size' , 0.1), ('features' , [predictors3])])"
   ]
  },
  {
   "cell_type": "code",
   "execution_count": 28,
   "id": "desirable-routine",
   "metadata": {
    "deletable": true,
    "editable": true
   },
   "outputs": [],
   "source": [
    "params1 = dict([('target', 'scaled_effect1'), ('max_depth', [2, 6, 10, 25, 50] ), ('max_iterations' , 100), \n",
    "               ('column_subsample' , .8), ('row_subsample' , .8), ('min_child_weight' , [2, 6, 10, 25, 50]), \n",
    "               ('min_loss_reduction' , 0), ('step_size' , 0.1), ('features' , [predictors3])])"
   ]
  },
  {
   "cell_type": "code",
   "execution_count": 29,
   "id": "enhanced-algeria",
   "metadata": {
    "deletable": true,
    "editable": true
   },
   "outputs": [],
   "source": [
    "params2 = dict([('target', 'scaled_effect1'), ('max_depth',6), ('max_iterations' , 100), \n",
    "               ('column_subsample' , .8), ('row_subsample' , .8), ('min_child_weight' ,50 ), \n",
    "               ('min_loss_reduction' , [0.5,0.6,0.7,0.8,0.9,1]), ('step_size' , 0.1), ('features' , [predictors3])])"
   ]
  },
  {
   "cell_type": "code",
   "execution_count": 30,
   "id": "manual-serve",
   "metadata": {
    "deletable": true,
    "editable": true
   },
   "outputs": [],
   "source": [
    "params3 = dict([('target', 'scaled_effect1'), ('max_depth',6), ('max_iterations' , 100), \n",
    "               ('column_subsample' , [0.6, 0.7, 0.8, 0.9]), ('row_subsample' , [0.6, 0.7, 0.8, 0.9]), ('min_child_weight' ,50 ), \n",
    "               ('min_loss_reduction' ,  0.5), ('step_size' , 0.1), ('features' , [predictors3])])"
   ]
  },
  {
   "cell_type": "code",
   "execution_count": 31,
   "id": "oriented-enzyme",
   "metadata": {
    "collapsed": false,
    "deletable": true,
    "editable": true,
    "jupyter": {
     "outputs_hidden": false
    },
    "scrolled": true
   },
   "outputs": [
    {
     "ename": "AttributeError",
     "evalue": "module 'turicreate' has no attribute 'model_parameter_search'",
     "output_type": "error",
     "traceback": [
      "\u001b[0;31m---------------------------------------------------------------------------\u001b[0m",
      "\u001b[0;31mAttributeError\u001b[0m                            Traceback (most recent call last)",
      "Cell \u001b[0;32mIn[31], line 2\u001b[0m\n\u001b[1;32m      1\u001b[0m \u001b[38;5;66;03m# Parameter search with VEG selected features\u001b[39;00m\n\u001b[0;32m----> 2\u001b[0m lopo_train_params1 \u001b[38;5;241m=\u001b[39m \u001b[43mgl\u001b[49m\u001b[38;5;241;43m.\u001b[39;49m\u001b[43mmodel_parameter_search\u001b[49m\u001b[38;5;241m.\u001b[39mgrid_search\u001b[38;5;241m.\u001b[39mcreate(lopo_folds, gl\u001b[38;5;241m.\u001b[39mboosted_trees_regression\u001b[38;5;241m.\u001b[39mcreate, params3)\n",
      "\u001b[0;31mAttributeError\u001b[0m: module 'turicreate' has no attribute 'model_parameter_search'"
     ]
    }
   ],
   "source": [
    "# Parameter search with VEG selected features\n",
    "lopo_train_params1 = gl.model_parameter_search.grid_search.create(lopo_folds, gl.boosted_trees_regression.create, params3)"
   ]
  },
  {
   "cell_type": "code",
   "execution_count": null,
   "id": "amino-sperm",
   "metadata": {
    "collapsed": false,
    "deletable": true,
    "editable": true,
    "jupyter": {
     "outputs_hidden": false
    },
    "scrolled": true
   },
   "outputs": [],
   "source": [
    "# Identify optimal tuning parameters\n",
    "lopo_train_params1.get_best_params()"
   ]
  },
  {
   "cell_type": "code",
   "execution_count": 32,
   "id": "actual-ukraine",
   "metadata": {
    "collapsed": false,
    "deletable": true,
    "editable": true,
    "jupyter": {
     "outputs_hidden": false
    },
    "scrolled": true
   },
   "outputs": [
    {
     "name": "stdout",
     "output_type": "stream",
     "text": [
      "PROGRESS: Creating a validation set from 5 percent of training data. This may take a while.\n",
      "          You can set ``validation_set=None`` to disable validation tracking.\n",
      "\n"
     ]
    },
    {
     "data": {
      "text/html": [
       "<pre>Boosted trees regression:</pre>"
      ],
      "text/plain": [
       "Boosted trees regression:"
      ]
     },
     "metadata": {},
     "output_type": "display_data"
    },
    {
     "data": {
      "text/html": [
       "<pre>--------------------------------------------------------</pre>"
      ],
      "text/plain": [
       "--------------------------------------------------------"
      ]
     },
     "metadata": {},
     "output_type": "display_data"
    },
    {
     "data": {
      "text/html": [
       "<pre>Number of examples          : 19974</pre>"
      ],
      "text/plain": [
       "Number of examples          : 19974"
      ]
     },
     "metadata": {},
     "output_type": "display_data"
    },
    {
     "data": {
      "text/html": [
       "<pre>Number of features          : 27</pre>"
      ],
      "text/plain": [
       "Number of features          : 27"
      ]
     },
     "metadata": {},
     "output_type": "display_data"
    },
    {
     "data": {
      "text/html": [
       "<pre>Number of unpacked features : 27</pre>"
      ],
      "text/plain": [
       "Number of unpacked features : 27"
      ]
     },
     "metadata": {},
     "output_type": "display_data"
    },
    {
     "data": {
      "text/html": [
       "<pre>+-----------+--------------+--------------------+----------------------+---------------------------------+-----------------------------------+</pre>"
      ],
      "text/plain": [
       "+-----------+--------------+--------------------+----------------------+---------------------------------+-----------------------------------+"
      ]
     },
     "metadata": {},
     "output_type": "display_data"
    },
    {
     "data": {
      "text/html": [
       "<pre>| Iteration | Elapsed Time | Training Max Error | Validation Max Error | Training Root-Mean-Square Error | Validation Root-Mean-Square Error |</pre>"
      ],
      "text/plain": [
       "| Iteration | Elapsed Time | Training Max Error | Validation Max Error | Training Root-Mean-Square Error | Validation Root-Mean-Square Error |"
      ]
     },
     "metadata": {},
     "output_type": "display_data"
    },
    {
     "data": {
      "text/html": [
       "<pre>+-----------+--------------+--------------------+----------------------+---------------------------------+-----------------------------------+</pre>"
      ],
      "text/plain": [
       "+-----------+--------------+--------------------+----------------------+---------------------------------+-----------------------------------+"
      ]
     },
     "metadata": {},
     "output_type": "display_data"
    },
    {
     "data": {
      "text/html": [
       "<pre>| 1         | 0.038250     | 1.088983           | 1.013705             | 0.427162                        | 0.431425                          |</pre>"
      ],
      "text/plain": [
       "| 1         | 0.038250     | 1.088983           | 1.013705             | 0.427162                        | 0.431425                          |"
      ]
     },
     "metadata": {},
     "output_type": "display_data"
    },
    {
     "data": {
      "text/html": [
       "<pre>| 2         | 0.073198     | 1.084389           | 1.010704             | 0.424419                        | 0.428707                          |</pre>"
      ],
      "text/plain": [
       "| 2         | 0.073198     | 1.084389           | 1.010704             | 0.424419                        | 0.428707                          |"
      ]
     },
     "metadata": {},
     "output_type": "display_data"
    },
    {
     "data": {
      "text/html": [
       "<pre>| 3         | 0.109420     | 1.080131           | 1.007040             | 0.421628                        | 0.425913                          |</pre>"
      ],
      "text/plain": [
       "| 3         | 0.109420     | 1.080131           | 1.007040             | 0.421628                        | 0.425913                          |"
      ]
     },
     "metadata": {},
     "output_type": "display_data"
    },
    {
     "data": {
      "text/html": [
       "<pre>| 4         | 0.147148     | 1.075579           | 1.002518             | 0.418900                        | 0.423172                          |</pre>"
      ],
      "text/plain": [
       "| 4         | 0.147148     | 1.075579           | 1.002518             | 0.418900                        | 0.423172                          |"
      ]
     },
     "metadata": {},
     "output_type": "display_data"
    },
    {
     "data": {
      "text/html": [
       "<pre>| 5         | 0.178799     | 1.071261           | 0.998621             | 0.416327                        | 0.420622                          |</pre>"
      ],
      "text/plain": [
       "| 5         | 0.178799     | 1.071261           | 0.998621             | 0.416327                        | 0.420622                          |"
      ]
     },
     "metadata": {},
     "output_type": "display_data"
    },
    {
     "data": {
      "text/html": [
       "<pre>| 10        | 0.304509     | 1.051625           | 0.980593             | 0.403883                        | 0.408246                          |</pre>"
      ],
      "text/plain": [
       "| 10        | 0.304509     | 1.051625           | 0.980593             | 0.403883                        | 0.408246                          |"
      ]
     },
     "metadata": {},
     "output_type": "display_data"
    },
    {
     "data": {
      "text/html": [
       "<pre>| 50        | 1.324441     | 1.008718           | 0.867015             | 0.326104                        | 0.331526                          |</pre>"
      ],
      "text/plain": [
       "| 50        | 1.324441     | 1.008718           | 0.867015             | 0.326104                        | 0.331526                          |"
      ]
     },
     "metadata": {},
     "output_type": "display_data"
    },
    {
     "data": {
      "text/html": [
       "<pre>| 100       | 2.622296     | 1.085845           | 0.873662             | 0.271302                        | 0.278151                          |</pre>"
      ],
      "text/plain": [
       "| 100       | 2.622296     | 1.085845           | 0.873662             | 0.271302                        | 0.278151                          |"
      ]
     },
     "metadata": {},
     "output_type": "display_data"
    },
    {
     "data": {
      "text/html": [
       "<pre>| 200       | 5.182213     | 1.151607           | 0.896960             | 0.227225                        | 0.236163                          |</pre>"
      ],
      "text/plain": [
       "| 200       | 5.182213     | 1.151607           | 0.896960             | 0.227225                        | 0.236163                          |"
      ]
     },
     "metadata": {},
     "output_type": "display_data"
    },
    {
     "data": {
      "text/html": [
       "<pre>| 300       | 7.665948     | 1.172029           | 0.889270             | 0.211866                        | 0.221675                          |</pre>"
      ],
      "text/plain": [
       "| 300       | 7.665948     | 1.172029           | 0.889270             | 0.211866                        | 0.221675                          |"
      ]
     },
     "metadata": {},
     "output_type": "display_data"
    },
    {
     "data": {
      "text/html": [
       "<pre>| 400       | 10.049608    | 1.176075           | 0.885682             | 0.205091                        | 0.215745                          |</pre>"
      ],
      "text/plain": [
       "| 400       | 10.049608    | 1.176075           | 0.885682             | 0.205091                        | 0.215745                          |"
      ]
     },
     "metadata": {},
     "output_type": "display_data"
    },
    {
     "data": {
      "text/html": [
       "<pre>| 500       | 12.465171    | 1.176587           | 0.883963             | 0.201035                        | 0.212307                          |</pre>"
      ],
      "text/plain": [
       "| 500       | 12.465171    | 1.176587           | 0.883963             | 0.201035                        | 0.212307                          |"
      ]
     },
     "metadata": {},
     "output_type": "display_data"
    },
    {
     "data": {
      "text/html": [
       "<pre>+-----------+--------------+--------------------+----------------------+---------------------------------+-----------------------------------+</pre>"
      ],
      "text/plain": [
       "+-----------+--------------+--------------------+----------------------+---------------------------------+-----------------------------------+"
      ]
     },
     "metadata": {},
     "output_type": "display_data"
    }
   ],
   "source": [
    "## Train final global model with 5-fold more trees and 0.01 learning rate\n",
    "global_regression_model_noSELCO = gl.boosted_trees_regression.create(data_1per2, 'scaled_effect1', \n",
    "                features = predictors3, max_iterations = 500, \n",
    "                column_subsample= 0.6, row_subsample =0.9,\n",
    "                min_child_weight = 50, min_loss_reduction = 0.5, step_size = 0.01,\n",
    "                max_depth = 6)\n"
   ]
  },
  {
   "cell_type": "code",
   "execution_count": 33,
   "id": "plastic-north",
   "metadata": {
    "collapsed": false,
    "deletable": true,
    "editable": true,
    "jupyter": {
     "outputs_hidden": false
    }
   },
   "outputs": [
    {
     "ename": "AttributeError",
     "evalue": "module 'turicreate' has no attribute '_gl_pickle'",
     "output_type": "error",
     "traceback": [
      "\u001b[0;31m---------------------------------------------------------------------------\u001b[0m",
      "\u001b[0;31mAttributeError\u001b[0m                            Traceback (most recent call last)",
      "Cell \u001b[0;32mIn[33], line 2\u001b[0m\n\u001b[1;32m      1\u001b[0m \u001b[38;5;66;03m## Save the models w/ pickle\u001b[39;00m\n\u001b[0;32m----> 2\u001b[0m pickler \u001b[38;5;241m=\u001b[39m \u001b[43mgl\u001b[49m\u001b[38;5;241;43m.\u001b[39;49m\u001b[43m_gl_pickle\u001b[49m\u001b[38;5;241m.\u001b[39mGLPickler(filename \u001b[38;5;241m=\u001b[39m \u001b[38;5;124m'\u001b[39m\u001b[38;5;124mmodels/global_regression_model_NOSELCO_selectDMS_update_2017-02-09\u001b[39m\u001b[38;5;124m'\u001b[39m)\n\u001b[1;32m      3\u001b[0m pickler\u001b[38;5;241m.\u001b[39mdump(global_regression_model_noSELCO)\n\u001b[1;32m      4\u001b[0m pickler\u001b[38;5;241m.\u001b[39mclose()\n",
      "\u001b[0;31mAttributeError\u001b[0m: module 'turicreate' has no attribute '_gl_pickle'"
     ]
    }
   ],
   "source": [
    "## Save the models w/ pickle\n",
    "# pickler = gl._gl_pickle.GLPickler(filename = 'models/global_regression_model_NOSELCO_selectDMS_update_2017-02-09')\n",
    "# pickler.dump(global_regression_model_noSELCO)\n",
    "# pickler.close()"
   ]
  },
  {
   "cell_type": "code",
   "execution_count": null,
   "id": "large-criminal",
   "metadata": {
    "collapsed": false,
    "deletable": true,
    "editable": true,
    "jupyter": {
     "outputs_hidden": false
    }
   },
   "outputs": [],
   "source": [
    "# Use unpickle to re-open models \n",
    "# unpickler = gl._gl_pickle.GLUnpickler(filename = 'models/global_regression_model_NOSELCO_selectDMS_update_2017-02-09')\n",
    "# global_regression_model_noSELCO = unpickler.load()\n",
    "# unpickler.close()"
   ]
  },
  {
   "cell_type": "code",
   "execution_count": 34,
   "id": "collect-material",
   "metadata": {
    "collapsed": false,
    "deletable": true,
    "editable": true,
    "jupyter": {
     "outputs_hidden": false
    }
   },
   "outputs": [
    {
     "name": "stderr",
     "output_type": "stream",
     "text": [
      "/tmp/ipykernel_62891/887672950.py:3: DeprecationWarning: Please use `pearsonr` from the `scipy.stats` namespace, the `scipy.stats.stats` namespace is deprecated.\n",
      "  stats.pearsonr(predictions, data_1per2['scaled_effect1'])\n"
     ]
    },
    {
     "data": {
      "text/plain": [
       "PearsonRResult(statistic=0.7927275362601048, pvalue=0.0)"
      ]
     },
     "execution_count": 34,
     "metadata": {},
     "output_type": "execute_result"
    }
   ],
   "source": [
    "# Use model to predict training data w/ Pearson and Spearman methods\n",
    "predictions = global_regression_model_noSELCO.predict(data_1per2)\n",
    "stats.pearsonr(predictions, data_1per2['scaled_effect1'])\n",
    "#stats.spearmanr(predictions, data_1per2['scaled_effect1'])"
   ]
  },
  {
   "cell_type": "code",
   "execution_count": 111,
   "id": "limited-operation",
   "metadata": {
    "collapsed": false,
    "deletable": true,
    "editable": true,
    "jupyter": {
     "outputs_hidden": false
    }
   },
   "outputs": [
    {
     "data": {
      "image/png": "[encoded data removed]",
      "text/plain": [
       "<Figure size 1100x800 with 2 Axes>"
      ]
     },
     "metadata": {},
     "output_type": "display_data"
    },
    {
     "name": "stderr",
     "output_type": "stream",
     "text": [
      "/tmp/ipykernel_62891/4065648345.py:18: DeprecationWarning: Please use `pearsonr` from the `scipy.stats` namespace, the `scipy.stats.stats` namespace is deprecated.\n",
      "  stats.pearsonr(predictions,data_1per2['scaled_effect1'])\n"
     ]
    },
    {
     "data": {
      "text/plain": [
       "PearsonRResult(statistic=0.7927275362601048, pvalue=0.0)"
      ]
     },
     "execution_count": 111,
     "metadata": {},
     "output_type": "execute_result"
    }
   ],
   "source": [
    "import matplotlib\n",
    "predictions = global_regression_model_noSELCO.predict(data_1per2)\n",
    "fig = plt.figure(figsize=(11,8))\n",
    "ax = fig.add_subplot(111)\n",
    "ax.set_xlabel('Observed score')\n",
    "ax.set_ylabel('Predicted score')\n",
    "ax.set_ylim([-0.2,1.6])\n",
    "ax.set_xlim([0,1.6])\n",
    "pic = ax.hexbin(data_1per2['scaled_effect1'],predictions,norm=matplotlib.colors.LogNorm(),cmap='YlGnBu_r',gridsize=45,mincnt= 5)\n",
    "font = {'family' : 'normal',\n",
    "        'weight' : 'normal',\n",
    "        'size'   : 18}\n",
    "cb = plt.colorbar(pic)\n",
    "cb.set_label('mutation count (log10)')\n",
    "plt.rc('font', **font)\n",
    "ax.axis('tight')\n",
    "plt.show()\n",
    "stats.pearsonr(predictions,data_1per2['scaled_effect1'])\n"
   ]
  },
  {
   "cell_type": "markdown",
   "id": "fatty-prospect",
   "metadata": {
    "deletable": true,
    "editable": true
   },
   "source": [
    "# Validation"
   ]
  },
  {
   "cell_type": "code",
   "execution_count": 36,
   "id": "still-hebrew",
   "metadata": {
    "collapsed": false,
    "deletable": true,
    "editable": true,
    "jupyter": {
     "outputs_hidden": false
    }
   },
   "outputs": [
    {
     "data": {
      "text/html": [
       "<pre>Finished parsing file /home/alex/eth/seminar/data/mutagenesisSet_annotated.csv</pre>"
      ],
      "text/plain": [
       "Finished parsing file /home/alex/eth/seminar/data/mutagenesisSet_annotated.csv"
      ]
     },
     "metadata": {},
     "output_type": "display_data"
    },
    {
     "data": {
      "text/html": [
       "<pre>Parsing completed. Parsed 100 lines in 0.174946 secs.</pre>"
      ],
      "text/plain": [
       "Parsing completed. Parsed 100 lines in 0.174946 secs."
      ]
     },
     "metadata": {},
     "output_type": "display_data"
    },
    {
     "data": {
      "text/html": [
       "<pre>These column type hints were not used: X1</pre>"
      ],
      "text/plain": [
       "These column type hints were not used: X1"
      ]
     },
     "metadata": {},
     "output_type": "display_data"
    },
    {
     "data": {
      "text/html": [
       "<pre>Finished parsing file /home/alex/eth/seminar/data/mutagenesisSet_annotated.csv</pre>"
      ],
      "text/plain": [
       "Finished parsing file /home/alex/eth/seminar/data/mutagenesisSet_annotated.csv"
      ]
     },
     "metadata": {},
     "output_type": "display_data"
    },
    {
     "data": {
      "text/html": [
       "<pre>Parsing completed. Parsed 8704 lines in 0.092289 secs.</pre>"
      ],
      "text/plain": [
       "Parsing completed. Parsed 8704 lines in 0.092289 secs."
      ]
     },
     "metadata": {},
     "output_type": "display_data"
    }
   ],
   "source": [
    "## Use Envision to predict TP53\n",
    "mutagenesisSets = gl.SFrame.read_csv('data/mutagenesisSet_annotated.csv', \n",
    "                                     column_type_hints={'aa1_psic':float, 'aa2_psic':float, 'delta_psic':float, \n",
    "                                                        'accessibility': float, 'delta_solvent_accessibility':float,\n",
    "                                                        'mut_mut_msa_congruency':float})"
   ]
  },
  {
   "cell_type": "code",
   "execution_count": 37,
   "id": "current-midwest",
   "metadata": {
    "collapsed": false,
    "deletable": true,
    "editable": true,
    "jupyter": {
     "outputs_hidden": false
    }
   },
   "outputs": [],
   "source": [
    "## Make predictions\n",
    "predictions = global_regression_model_noSELCO.predict(mutagenesisSets)"
   ]
  },
  {
   "cell_type": "code",
   "execution_count": 63,
   "id": "seventh-newport",
   "metadata": {
    "collapsed": false,
    "deletable": true,
    "editable": true,
    "jupyter": {
     "outputs_hidden": false
    }
   },
   "outputs": [],
   "source": [
    "## Add predictions to dataframe\n",
    "predictions1 = gl.SFrame(predictions)\n",
    "predictions1 = predictions1.rename({'X1': 'global_model_predictions'})\n",
    "mutagenesisSets_predictions = mutagenesisSets.add_column(predictions1['global_model_predictions'])"
   ]
  },
  {
   "cell_type": "code",
   "execution_count": 64,
   "id": "psychological-black",
   "metadata": {
    "collapsed": false,
    "deletable": true,
    "editable": true,
    "jupyter": {
     "outputs_hidden": false
    }
   },
   "outputs": [],
   "source": [
    "## Filter out TP53 data set\n",
    "tp53 = mutagenesisSets_predictions.filter_by([x for x in mutagenesisSets_predictions['Protein'].unique() if x in ['TP53']], 'Protein')\n",
    "tp53['Activity']=pd.to_numeric(tp53['Activity'])"
   ]
  },
  {
   "cell_type": "markdown",
   "id": "2915bb84-d28a-4cef-a799-8d3a117d51fe",
   "metadata": {},
   "source": [
    "## New Validation\n",
    "\n",
    "Code above was adjusted from the original repo https://github.com/FowlerLab/Envision2017 \n",
    "\n",
    "Code below is a custom validation using ROC instead of correlation"
   ]
  },
  {
   "cell_type": "code",
   "execution_count": 55,
   "id": "c74fb928-3b94-4994-9d25-c8588aa95ce2",
   "metadata": {},
   "outputs": [
    {
     "data": {
      "text/plain": [
       "array([0, 0, 0, ..., 0, 0, 0])"
      ]
     },
     "execution_count": 55,
     "metadata": {},
     "output_type": "execute_result"
    }
   ],
   "source": [
    "tp53['effect_numeric'].to_numpy()"
   ]
  },
  {
   "cell_type": "code",
   "execution_count": 86,
   "id": "0e94eef1-3718-4035-97fe-858ea684252e",
   "metadata": {},
   "outputs": [
    {
     "data": {
      "text/html": [
       "<div style=\"max-height:1000px;max-width:1500px;overflow:auto;\"><table frame=\"box\" rules=\"cols\">\n",
       "    <tr>\n",
       "        <th style=\"padding-left: 1em; padding-right: 1em; text-align: center\">X1</th>\n",
       "        <th style=\"padding-left: 1em; padding-right: 1em; text-align: center\">X</th>\n",
       "        <th style=\"padding-left: 1em; padding-right: 1em; text-align: center\">Protein</th>\n",
       "        <th style=\"padding-left: 1em; padding-right: 1em; text-align: center\">uniprot_id</th>\n",
       "        <th style=\"padding-left: 1em; padding-right: 1em; text-align: center\">mutation</th>\n",
       "        <th style=\"padding-left: 1em; padding-right: 1em; text-align: center\">id</th>\n",
       "        <th style=\"padding-left: 1em; padding-right: 1em; text-align: center\">Activity</th>\n",
       "        <th style=\"padding-left: 1em; padding-right: 1em; text-align: center\">effect</th>\n",
       "        <th style=\"padding-left: 1em; padding-right: 1em; text-align: center\">effect2</th>\n",
       "        <th style=\"padding-left: 1em; padding-right: 1em; text-align: center\">aa1</th>\n",
       "        <th style=\"padding-left: 1em; padding-right: 1em; text-align: center\">aa2</th>\n",
       "        <th style=\"padding-left: 1em; padding-right: 1em; text-align: center\">pos</th>\n",
       "        <th style=\"padding-left: 1em; padding-right: 1em; text-align: center\">SNAP2_class</th>\n",
       "    </tr>\n",
       "    <tr>\n",
       "        <td style=\"padding-left: 1em; padding-right: 1em; text-align: center; vertical-align: top\">4378</td>\n",
       "        <td style=\"padding-left: 1em; padding-right: 1em; text-align: center; vertical-align: top\">4378</td>\n",
       "        <td style=\"padding-left: 1em; padding-right: 1em; text-align: center; vertical-align: top\">TP53</td>\n",
       "        <td style=\"padding-left: 1em; padding-right: 1em; text-align: center; vertical-align: top\">P04637</td>\n",
       "        <td style=\"padding-left: 1em; padding-right: 1em; text-align: center; vertical-align: top\">E2A</td>\n",
       "        <td style=\"padding-left: 1em; padding-right: 1em; text-align: center; vertical-align: top\">P04637_2</td>\n",
       "        <td style=\"padding-left: 1em; padding-right: 1em; text-align: center; vertical-align: top\">131</td>\n",
       "        <td style=\"padding-left: 1em; padding-right: 1em; text-align: center; vertical-align: top\">other</td>\n",
       "        <td style=\"padding-left: 1em; padding-right: 1em; text-align: center; vertical-align: top\">None</td>\n",
       "        <td style=\"padding-left: 1em; padding-right: 1em; text-align: center; vertical-align: top\">E</td>\n",
       "        <td style=\"padding-left: 1em; padding-right: 1em; text-align: center; vertical-align: top\">A</td>\n",
       "        <td style=\"padding-left: 1em; padding-right: 1em; text-align: center; vertical-align: top\">2</td>\n",
       "        <td style=\"padding-left: 1em; padding-right: 1em; text-align: center; vertical-align: top\">other</td>\n",
       "    </tr>\n",
       "    <tr>\n",
       "        <td style=\"padding-left: 1em; padding-right: 1em; text-align: center; vertical-align: top\">4379</td>\n",
       "        <td style=\"padding-left: 1em; padding-right: 1em; text-align: center; vertical-align: top\">4379</td>\n",
       "        <td style=\"padding-left: 1em; padding-right: 1em; text-align: center; vertical-align: top\">TP53</td>\n",
       "        <td style=\"padding-left: 1em; padding-right: 1em; text-align: center; vertical-align: top\">P04637</td>\n",
       "        <td style=\"padding-left: 1em; padding-right: 1em; text-align: center; vertical-align: top\">E2D</td>\n",
       "        <td style=\"padding-left: 1em; padding-right: 1em; text-align: center; vertical-align: top\">P04637_2</td>\n",
       "        <td style=\"padding-left: 1em; padding-right: 1em; text-align: center; vertical-align: top\">99</td>\n",
       "        <td style=\"padding-left: 1em; padding-right: 1em; text-align: center; vertical-align: top\">other</td>\n",
       "        <td style=\"padding-left: 1em; padding-right: 1em; text-align: center; vertical-align: top\">None</td>\n",
       "        <td style=\"padding-left: 1em; padding-right: 1em; text-align: center; vertical-align: top\">E</td>\n",
       "        <td style=\"padding-left: 1em; padding-right: 1em; text-align: center; vertical-align: top\">D</td>\n",
       "        <td style=\"padding-left: 1em; padding-right: 1em; text-align: center; vertical-align: top\">2</td>\n",
       "        <td style=\"padding-left: 1em; padding-right: 1em; text-align: center; vertical-align: top\">other</td>\n",
       "    </tr>\n",
       "    <tr>\n",
       "        <td style=\"padding-left: 1em; padding-right: 1em; text-align: center; vertical-align: top\">4380</td>\n",
       "        <td style=\"padding-left: 1em; padding-right: 1em; text-align: center; vertical-align: top\">4380</td>\n",
       "        <td style=\"padding-left: 1em; padding-right: 1em; text-align: center; vertical-align: top\">TP53</td>\n",
       "        <td style=\"padding-left: 1em; padding-right: 1em; text-align: center; vertical-align: top\">P04637</td>\n",
       "        <td style=\"padding-left: 1em; padding-right: 1em; text-align: center; vertical-align: top\">E2G</td>\n",
       "        <td style=\"padding-left: 1em; padding-right: 1em; text-align: center; vertical-align: top\">P04637_2</td>\n",
       "        <td style=\"padding-left: 1em; padding-right: 1em; text-align: center; vertical-align: top\">92</td>\n",
       "        <td style=\"padding-left: 1em; padding-right: 1em; text-align: center; vertical-align: top\">other</td>\n",
       "        <td style=\"padding-left: 1em; padding-right: 1em; text-align: center; vertical-align: top\">None</td>\n",
       "        <td style=\"padding-left: 1em; padding-right: 1em; text-align: center; vertical-align: top\">E</td>\n",
       "        <td style=\"padding-left: 1em; padding-right: 1em; text-align: center; vertical-align: top\">G</td>\n",
       "        <td style=\"padding-left: 1em; padding-right: 1em; text-align: center; vertical-align: top\">2</td>\n",
       "        <td style=\"padding-left: 1em; padding-right: 1em; text-align: center; vertical-align: top\">other</td>\n",
       "    </tr>\n",
       "    <tr>\n",
       "        <td style=\"padding-left: 1em; padding-right: 1em; text-align: center; vertical-align: top\">4381</td>\n",
       "        <td style=\"padding-left: 1em; padding-right: 1em; text-align: center; vertical-align: top\">4381</td>\n",
       "        <td style=\"padding-left: 1em; padding-right: 1em; text-align: center; vertical-align: top\">TP53</td>\n",
       "        <td style=\"padding-left: 1em; padding-right: 1em; text-align: center; vertical-align: top\">P04637</td>\n",
       "        <td style=\"padding-left: 1em; padding-right: 1em; text-align: center; vertical-align: top\">E2K</td>\n",
       "        <td style=\"padding-left: 1em; padding-right: 1em; text-align: center; vertical-align: top\">P04637_2</td>\n",
       "        <td style=\"padding-left: 1em; padding-right: 1em; text-align: center; vertical-align: top\">145</td>\n",
       "        <td style=\"padding-left: 1em; padding-right: 1em; text-align: center; vertical-align: top\">other</td>\n",
       "        <td style=\"padding-left: 1em; padding-right: 1em; text-align: center; vertical-align: top\">None</td>\n",
       "        <td style=\"padding-left: 1em; padding-right: 1em; text-align: center; vertical-align: top\">E</td>\n",
       "        <td style=\"padding-left: 1em; padding-right: 1em; text-align: center; vertical-align: top\">K</td>\n",
       "        <td style=\"padding-left: 1em; padding-right: 1em; text-align: center; vertical-align: top\">2</td>\n",
       "        <td style=\"padding-left: 1em; padding-right: 1em; text-align: center; vertical-align: top\">other</td>\n",
       "    </tr>\n",
       "    <tr>\n",
       "        <td style=\"padding-left: 1em; padding-right: 1em; text-align: center; vertical-align: top\">4382</td>\n",
       "        <td style=\"padding-left: 1em; padding-right: 1em; text-align: center; vertical-align: top\">4382</td>\n",
       "        <td style=\"padding-left: 1em; padding-right: 1em; text-align: center; vertical-align: top\">TP53</td>\n",
       "        <td style=\"padding-left: 1em; padding-right: 1em; text-align: center; vertical-align: top\">P04637</td>\n",
       "        <td style=\"padding-left: 1em; padding-right: 1em; text-align: center; vertical-align: top\">E2Q</td>\n",
       "        <td style=\"padding-left: 1em; padding-right: 1em; text-align: center; vertical-align: top\">P04637_2</td>\n",
       "        <td style=\"padding-left: 1em; padding-right: 1em; text-align: center; vertical-align: top\">131</td>\n",
       "        <td style=\"padding-left: 1em; padding-right: 1em; text-align: center; vertical-align: top\">other</td>\n",
       "        <td style=\"padding-left: 1em; padding-right: 1em; text-align: center; vertical-align: top\">None</td>\n",
       "        <td style=\"padding-left: 1em; padding-right: 1em; text-align: center; vertical-align: top\">E</td>\n",
       "        <td style=\"padding-left: 1em; padding-right: 1em; text-align: center; vertical-align: top\">Q</td>\n",
       "        <td style=\"padding-left: 1em; padding-right: 1em; text-align: center; vertical-align: top\">2</td>\n",
       "        <td style=\"padding-left: 1em; padding-right: 1em; text-align: center; vertical-align: top\">other</td>\n",
       "    </tr>\n",
       "    <tr>\n",
       "        <td style=\"padding-left: 1em; padding-right: 1em; text-align: center; vertical-align: top\">4383</td>\n",
       "        <td style=\"padding-left: 1em; padding-right: 1em; text-align: center; vertical-align: top\">4383</td>\n",
       "        <td style=\"padding-left: 1em; padding-right: 1em; text-align: center; vertical-align: top\">TP53</td>\n",
       "        <td style=\"padding-left: 1em; padding-right: 1em; text-align: center; vertical-align: top\">P04637</td>\n",
       "        <td style=\"padding-left: 1em; padding-right: 1em; text-align: center; vertical-align: top\">E2V</td>\n",
       "        <td style=\"padding-left: 1em; padding-right: 1em; text-align: center; vertical-align: top\">P04637_2</td>\n",
       "        <td style=\"padding-left: 1em; padding-right: 1em; text-align: center; vertical-align: top\">133</td>\n",
       "        <td style=\"padding-left: 1em; padding-right: 1em; text-align: center; vertical-align: top\">other</td>\n",
       "        <td style=\"padding-left: 1em; padding-right: 1em; text-align: center; vertical-align: top\">None</td>\n",
       "        <td style=\"padding-left: 1em; padding-right: 1em; text-align: center; vertical-align: top\">E</td>\n",
       "        <td style=\"padding-left: 1em; padding-right: 1em; text-align: center; vertical-align: top\">V</td>\n",
       "        <td style=\"padding-left: 1em; padding-right: 1em; text-align: center; vertical-align: top\">2</td>\n",
       "        <td style=\"padding-left: 1em; padding-right: 1em; text-align: center; vertical-align: top\">other</td>\n",
       "    </tr>\n",
       "    <tr>\n",
       "        <td style=\"padding-left: 1em; padding-right: 1em; text-align: center; vertical-align: top\">4384</td>\n",
       "        <td style=\"padding-left: 1em; padding-right: 1em; text-align: center; vertical-align: top\">4384</td>\n",
       "        <td style=\"padding-left: 1em; padding-right: 1em; text-align: center; vertical-align: top\">TP53</td>\n",
       "        <td style=\"padding-left: 1em; padding-right: 1em; text-align: center; vertical-align: top\">P04637</td>\n",
       "        <td style=\"padding-left: 1em; padding-right: 1em; text-align: center; vertical-align: top\">E3A</td>\n",
       "        <td style=\"padding-left: 1em; padding-right: 1em; text-align: center; vertical-align: top\">P04637_3</td>\n",
       "        <td style=\"padding-left: 1em; padding-right: 1em; text-align: center; vertical-align: top\">112</td>\n",
       "        <td style=\"padding-left: 1em; padding-right: 1em; text-align: center; vertical-align: top\">other</td>\n",
       "        <td style=\"padding-left: 1em; padding-right: 1em; text-align: center; vertical-align: top\">None</td>\n",
       "        <td style=\"padding-left: 1em; padding-right: 1em; text-align: center; vertical-align: top\">E</td>\n",
       "        <td style=\"padding-left: 1em; padding-right: 1em; text-align: center; vertical-align: top\">A</td>\n",
       "        <td style=\"padding-left: 1em; padding-right: 1em; text-align: center; vertical-align: top\">3</td>\n",
       "        <td style=\"padding-left: 1em; padding-right: 1em; text-align: center; vertical-align: top\">other</td>\n",
       "    </tr>\n",
       "    <tr>\n",
       "        <td style=\"padding-left: 1em; padding-right: 1em; text-align: center; vertical-align: top\">4385</td>\n",
       "        <td style=\"padding-left: 1em; padding-right: 1em; text-align: center; vertical-align: top\">4385</td>\n",
       "        <td style=\"padding-left: 1em; padding-right: 1em; text-align: center; vertical-align: top\">TP53</td>\n",
       "        <td style=\"padding-left: 1em; padding-right: 1em; text-align: center; vertical-align: top\">P04637</td>\n",
       "        <td style=\"padding-left: 1em; padding-right: 1em; text-align: center; vertical-align: top\">E3D</td>\n",
       "        <td style=\"padding-left: 1em; padding-right: 1em; text-align: center; vertical-align: top\">P04637_3</td>\n",
       "        <td style=\"padding-left: 1em; padding-right: 1em; text-align: center; vertical-align: top\">103</td>\n",
       "        <td style=\"padding-left: 1em; padding-right: 1em; text-align: center; vertical-align: top\">other</td>\n",
       "        <td style=\"padding-left: 1em; padding-right: 1em; text-align: center; vertical-align: top\">None</td>\n",
       "        <td style=\"padding-left: 1em; padding-right: 1em; text-align: center; vertical-align: top\">E</td>\n",
       "        <td style=\"padding-left: 1em; padding-right: 1em; text-align: center; vertical-align: top\">D</td>\n",
       "        <td style=\"padding-left: 1em; padding-right: 1em; text-align: center; vertical-align: top\">3</td>\n",
       "        <td style=\"padding-left: 1em; padding-right: 1em; text-align: center; vertical-align: top\">other</td>\n",
       "    </tr>\n",
       "    <tr>\n",
       "        <td style=\"padding-left: 1em; padding-right: 1em; text-align: center; vertical-align: top\">4386</td>\n",
       "        <td style=\"padding-left: 1em; padding-right: 1em; text-align: center; vertical-align: top\">4386</td>\n",
       "        <td style=\"padding-left: 1em; padding-right: 1em; text-align: center; vertical-align: top\">TP53</td>\n",
       "        <td style=\"padding-left: 1em; padding-right: 1em; text-align: center; vertical-align: top\">P04637</td>\n",
       "        <td style=\"padding-left: 1em; padding-right: 1em; text-align: center; vertical-align: top\">E3G</td>\n",
       "        <td style=\"padding-left: 1em; padding-right: 1em; text-align: center; vertical-align: top\">P04637_3</td>\n",
       "        <td style=\"padding-left: 1em; padding-right: 1em; text-align: center; vertical-align: top\">80</td>\n",
       "        <td style=\"padding-left: 1em; padding-right: 1em; text-align: center; vertical-align: top\">other</td>\n",
       "        <td style=\"padding-left: 1em; padding-right: 1em; text-align: center; vertical-align: top\">None</td>\n",
       "        <td style=\"padding-left: 1em; padding-right: 1em; text-align: center; vertical-align: top\">E</td>\n",
       "        <td style=\"padding-left: 1em; padding-right: 1em; text-align: center; vertical-align: top\">G</td>\n",
       "        <td style=\"padding-left: 1em; padding-right: 1em; text-align: center; vertical-align: top\">3</td>\n",
       "        <td style=\"padding-left: 1em; padding-right: 1em; text-align: center; vertical-align: top\">other</td>\n",
       "    </tr>\n",
       "    <tr>\n",
       "        <td style=\"padding-left: 1em; padding-right: 1em; text-align: center; vertical-align: top\">4387</td>\n",
       "        <td style=\"padding-left: 1em; padding-right: 1em; text-align: center; vertical-align: top\">4387</td>\n",
       "        <td style=\"padding-left: 1em; padding-right: 1em; text-align: center; vertical-align: top\">TP53</td>\n",
       "        <td style=\"padding-left: 1em; padding-right: 1em; text-align: center; vertical-align: top\">P04637</td>\n",
       "        <td style=\"padding-left: 1em; padding-right: 1em; text-align: center; vertical-align: top\">E3K</td>\n",
       "        <td style=\"padding-left: 1em; padding-right: 1em; text-align: center; vertical-align: top\">P04637_3</td>\n",
       "        <td style=\"padding-left: 1em; padding-right: 1em; text-align: center; vertical-align: top\">127</td>\n",
       "        <td style=\"padding-left: 1em; padding-right: 1em; text-align: center; vertical-align: top\">other</td>\n",
       "        <td style=\"padding-left: 1em; padding-right: 1em; text-align: center; vertical-align: top\">None</td>\n",
       "        <td style=\"padding-left: 1em; padding-right: 1em; text-align: center; vertical-align: top\">E</td>\n",
       "        <td style=\"padding-left: 1em; padding-right: 1em; text-align: center; vertical-align: top\">K</td>\n",
       "        <td style=\"padding-left: 1em; padding-right: 1em; text-align: center; vertical-align: top\">3</td>\n",
       "        <td style=\"padding-left: 1em; padding-right: 1em; text-align: center; vertical-align: top\">other</td>\n",
       "    </tr>\n",
       "</table>\n",
       "<table frame=\"box\" rules=\"cols\">\n",
       "    <tr>\n",
       "        <th style=\"padding-left: 1em; padding-right: 1em; text-align: center\">SNAP2_score</th>\n",
       "        <th style=\"padding-left: 1em; padding-right: 1em; text-align: center\">id2</th>\n",
       "        <th style=\"padding-left: 1em; padding-right: 1em; text-align: center\">WT_Mut</th>\n",
       "        <th style=\"padding-left: 1em; padding-right: 1em; text-align: center\">Variant</th>\n",
       "        <th style=\"padding-left: 1em; padding-right: 1em; text-align: center\">aa1_polarity</th>\n",
       "        <th style=\"padding-left: 1em; padding-right: 1em; text-align: center\">aa2_polarity</th>\n",
       "        <th style=\"padding-left: 1em; padding-right: 1em; text-align: center\">aa1_PI</th>\n",
       "        <th style=\"padding-left: 1em; padding-right: 1em; text-align: center\">aa2_PI</th>\n",
       "        <th style=\"padding-left: 1em; padding-right: 1em; text-align: center\">deltaPI</th>\n",
       "        <th style=\"padding-left: 1em; padding-right: 1em; text-align: center\">aa1_weight</th>\n",
       "    </tr>\n",
       "    <tr>\n",
       "        <td style=\"padding-left: 1em; padding-right: 1em; text-align: center; vertical-align: top\">-38</td>\n",
       "        <td style=\"padding-left: 1em; padding-right: 1em; text-align: center; vertical-align: top\">P04637_E2A</td>\n",
       "        <td style=\"padding-left: 1em; padding-right: 1em; text-align: center; vertical-align: top\">EA</td>\n",
       "        <td style=\"padding-left: 1em; padding-right: 1em; text-align: center; vertical-align: top\">EA</td>\n",
       "        <td style=\"padding-left: 1em; padding-right: 1em; text-align: center; vertical-align: top\">negativeCharge</td>\n",
       "        <td style=\"padding-left: 1em; padding-right: 1em; text-align: center; vertical-align: top\">Hydrophobic</td>\n",
       "        <td style=\"padding-left: 1em; padding-right: 1em; text-align: center; vertical-align: top\">3.22</td>\n",
       "        <td style=\"padding-left: 1em; padding-right: 1em; text-align: center; vertical-align: top\">6.0</td>\n",
       "        <td style=\"padding-left: 1em; padding-right: 1em; text-align: center; vertical-align: top\">2.78</td>\n",
       "        <td style=\"padding-left: 1em; padding-right: 1em; text-align: center; vertical-align: top\">147</td>\n",
       "    </tr>\n",
       "    <tr>\n",
       "        <td style=\"padding-left: 1em; padding-right: 1em; text-align: center; vertical-align: top\">-81</td>\n",
       "        <td style=\"padding-left: 1em; padding-right: 1em; text-align: center; vertical-align: top\">P04637_E2D</td>\n",
       "        <td style=\"padding-left: 1em; padding-right: 1em; text-align: center; vertical-align: top\">ED</td>\n",
       "        <td style=\"padding-left: 1em; padding-right: 1em; text-align: center; vertical-align: top\">ED</td>\n",
       "        <td style=\"padding-left: 1em; padding-right: 1em; text-align: center; vertical-align: top\">negativeCharge</td>\n",
       "        <td style=\"padding-left: 1em; padding-right: 1em; text-align: center; vertical-align: top\">negativeCharge</td>\n",
       "        <td style=\"padding-left: 1em; padding-right: 1em; text-align: center; vertical-align: top\">3.22</td>\n",
       "        <td style=\"padding-left: 1em; padding-right: 1em; text-align: center; vertical-align: top\">5.05</td>\n",
       "        <td style=\"padding-left: 1em; padding-right: 1em; text-align: center; vertical-align: top\">1.83</td>\n",
       "        <td style=\"padding-left: 1em; padding-right: 1em; text-align: center; vertical-align: top\">147</td>\n",
       "    </tr>\n",
       "    <tr>\n",
       "        <td style=\"padding-left: 1em; padding-right: 1em; text-align: center; vertical-align: top\">-30</td>\n",
       "        <td style=\"padding-left: 1em; padding-right: 1em; text-align: center; vertical-align: top\">P04637_E2G</td>\n",
       "        <td style=\"padding-left: 1em; padding-right: 1em; text-align: center; vertical-align: top\">EG</td>\n",
       "        <td style=\"padding-left: 1em; padding-right: 1em; text-align: center; vertical-align: top\">EG</td>\n",
       "        <td style=\"padding-left: 1em; padding-right: 1em; text-align: center; vertical-align: top\">negativeCharge</td>\n",
       "        <td style=\"padding-left: 1em; padding-right: 1em; text-align: center; vertical-align: top\">Special</td>\n",
       "        <td style=\"padding-left: 1em; padding-right: 1em; text-align: center; vertical-align: top\">3.22</td>\n",
       "        <td style=\"padding-left: 1em; padding-right: 1em; text-align: center; vertical-align: top\">3.29</td>\n",
       "        <td style=\"padding-left: 1em; padding-right: 1em; text-align: center; vertical-align: top\">0.07</td>\n",
       "        <td style=\"padding-left: 1em; padding-right: 1em; text-align: center; vertical-align: top\">147</td>\n",
       "    </tr>\n",
       "    <tr>\n",
       "        <td style=\"padding-left: 1em; padding-right: 1em; text-align: center; vertical-align: top\">-14</td>\n",
       "        <td style=\"padding-left: 1em; padding-right: 1em; text-align: center; vertical-align: top\">P04637_E2K</td>\n",
       "        <td style=\"padding-left: 1em; padding-right: 1em; text-align: center; vertical-align: top\">EK</td>\n",
       "        <td style=\"padding-left: 1em; padding-right: 1em; text-align: center; vertical-align: top\">EK</td>\n",
       "        <td style=\"padding-left: 1em; padding-right: 1em; text-align: center; vertical-align: top\">negativeCharge</td>\n",
       "        <td style=\"padding-left: 1em; padding-right: 1em; text-align: center; vertical-align: top\">PositiveCharge</td>\n",
       "        <td style=\"padding-left: 1em; padding-right: 1em; text-align: center; vertical-align: top\">3.22</td>\n",
       "        <td style=\"padding-left: 1em; padding-right: 1em; text-align: center; vertical-align: top\">9.74</td>\n",
       "        <td style=\"padding-left: 1em; padding-right: 1em; text-align: center; vertical-align: top\">6.52</td>\n",
       "        <td style=\"padding-left: 1em; padding-right: 1em; text-align: center; vertical-align: top\">147</td>\n",
       "    </tr>\n",
       "    <tr>\n",
       "        <td style=\"padding-left: 1em; padding-right: 1em; text-align: center; vertical-align: top\">-58</td>\n",
       "        <td style=\"padding-left: 1em; padding-right: 1em; text-align: center; vertical-align: top\">P04637_E2Q</td>\n",
       "        <td style=\"padding-left: 1em; padding-right: 1em; text-align: center; vertical-align: top\">EQ</td>\n",
       "        <td style=\"padding-left: 1em; padding-right: 1em; text-align: center; vertical-align: top\">EQ</td>\n",
       "        <td style=\"padding-left: 1em; padding-right: 1em; text-align: center; vertical-align: top\">negativeCharge</td>\n",
       "        <td style=\"padding-left: 1em; padding-right: 1em; text-align: center; vertical-align: top\">Polar</td>\n",
       "        <td style=\"padding-left: 1em; padding-right: 1em; text-align: center; vertical-align: top\">3.22</td>\n",
       "        <td style=\"padding-left: 1em; padding-right: 1em; text-align: center; vertical-align: top\">6.24</td>\n",
       "        <td style=\"padding-left: 1em; padding-right: 1em; text-align: center; vertical-align: top\">3.02</td>\n",
       "        <td style=\"padding-left: 1em; padding-right: 1em; text-align: center; vertical-align: top\">147</td>\n",
       "    </tr>\n",
       "    <tr>\n",
       "        <td style=\"padding-left: 1em; padding-right: 1em; text-align: center; vertical-align: top\">-45</td>\n",
       "        <td style=\"padding-left: 1em; padding-right: 1em; text-align: center; vertical-align: top\">P04637_E2V</td>\n",
       "        <td style=\"padding-left: 1em; padding-right: 1em; text-align: center; vertical-align: top\">EV</td>\n",
       "        <td style=\"padding-left: 1em; padding-right: 1em; text-align: center; vertical-align: top\">EV</td>\n",
       "        <td style=\"padding-left: 1em; padding-right: 1em; text-align: center; vertical-align: top\">negativeCharge</td>\n",
       "        <td style=\"padding-left: 1em; padding-right: 1em; text-align: center; vertical-align: top\">Hydrophobic</td>\n",
       "        <td style=\"padding-left: 1em; padding-right: 1em; text-align: center; vertical-align: top\">3.22</td>\n",
       "        <td style=\"padding-left: 1em; padding-right: 1em; text-align: center; vertical-align: top\">5.61</td>\n",
       "        <td style=\"padding-left: 1em; padding-right: 1em; text-align: center; vertical-align: top\">2.39</td>\n",
       "        <td style=\"padding-left: 1em; padding-right: 1em; text-align: center; vertical-align: top\">147</td>\n",
       "    </tr>\n",
       "    <tr>\n",
       "        <td style=\"padding-left: 1em; padding-right: 1em; text-align: center; vertical-align: top\">-35</td>\n",
       "        <td style=\"padding-left: 1em; padding-right: 1em; text-align: center; vertical-align: top\">P04637_E3A</td>\n",
       "        <td style=\"padding-left: 1em; padding-right: 1em; text-align: center; vertical-align: top\">EA</td>\n",
       "        <td style=\"padding-left: 1em; padding-right: 1em; text-align: center; vertical-align: top\">EA</td>\n",
       "        <td style=\"padding-left: 1em; padding-right: 1em; text-align: center; vertical-align: top\">negativeCharge</td>\n",
       "        <td style=\"padding-left: 1em; padding-right: 1em; text-align: center; vertical-align: top\">Hydrophobic</td>\n",
       "        <td style=\"padding-left: 1em; padding-right: 1em; text-align: center; vertical-align: top\">3.22</td>\n",
       "        <td style=\"padding-left: 1em; padding-right: 1em; text-align: center; vertical-align: top\">6.0</td>\n",
       "        <td style=\"padding-left: 1em; padding-right: 1em; text-align: center; vertical-align: top\">2.78</td>\n",
       "        <td style=\"padding-left: 1em; padding-right: 1em; text-align: center; vertical-align: top\">147</td>\n",
       "    </tr>\n",
       "    <tr>\n",
       "        <td style=\"padding-left: 1em; padding-right: 1em; text-align: center; vertical-align: top\">-89</td>\n",
       "        <td style=\"padding-left: 1em; padding-right: 1em; text-align: center; vertical-align: top\">P04637_E3D</td>\n",
       "        <td style=\"padding-left: 1em; padding-right: 1em; text-align: center; vertical-align: top\">ED</td>\n",
       "        <td style=\"padding-left: 1em; padding-right: 1em; text-align: center; vertical-align: top\">ED</td>\n",
       "        <td style=\"padding-left: 1em; padding-right: 1em; text-align: center; vertical-align: top\">negativeCharge</td>\n",
       "        <td style=\"padding-left: 1em; padding-right: 1em; text-align: center; vertical-align: top\">negativeCharge</td>\n",
       "        <td style=\"padding-left: 1em; padding-right: 1em; text-align: center; vertical-align: top\">3.22</td>\n",
       "        <td style=\"padding-left: 1em; padding-right: 1em; text-align: center; vertical-align: top\">5.05</td>\n",
       "        <td style=\"padding-left: 1em; padding-right: 1em; text-align: center; vertical-align: top\">1.83</td>\n",
       "        <td style=\"padding-left: 1em; padding-right: 1em; text-align: center; vertical-align: top\">147</td>\n",
       "    </tr>\n",
       "    <tr>\n",
       "        <td style=\"padding-left: 1em; padding-right: 1em; text-align: center; vertical-align: top\">-6</td>\n",
       "        <td style=\"padding-left: 1em; padding-right: 1em; text-align: center; vertical-align: top\">P04637_E3G</td>\n",
       "        <td style=\"padding-left: 1em; padding-right: 1em; text-align: center; vertical-align: top\">EG</td>\n",
       "        <td style=\"padding-left: 1em; padding-right: 1em; text-align: center; vertical-align: top\">EG</td>\n",
       "        <td style=\"padding-left: 1em; padding-right: 1em; text-align: center; vertical-align: top\">negativeCharge</td>\n",
       "        <td style=\"padding-left: 1em; padding-right: 1em; text-align: center; vertical-align: top\">Special</td>\n",
       "        <td style=\"padding-left: 1em; padding-right: 1em; text-align: center; vertical-align: top\">3.22</td>\n",
       "        <td style=\"padding-left: 1em; padding-right: 1em; text-align: center; vertical-align: top\">3.29</td>\n",
       "        <td style=\"padding-left: 1em; padding-right: 1em; text-align: center; vertical-align: top\">0.07</td>\n",
       "        <td style=\"padding-left: 1em; padding-right: 1em; text-align: center; vertical-align: top\">147</td>\n",
       "    </tr>\n",
       "    <tr>\n",
       "        <td style=\"padding-left: 1em; padding-right: 1em; text-align: center; vertical-align: top\">-2</td>\n",
       "        <td style=\"padding-left: 1em; padding-right: 1em; text-align: center; vertical-align: top\">P04637_E3K</td>\n",
       "        <td style=\"padding-left: 1em; padding-right: 1em; text-align: center; vertical-align: top\">EK</td>\n",
       "        <td style=\"padding-left: 1em; padding-right: 1em; text-align: center; vertical-align: top\">EK</td>\n",
       "        <td style=\"padding-left: 1em; padding-right: 1em; text-align: center; vertical-align: top\">negativeCharge</td>\n",
       "        <td style=\"padding-left: 1em; padding-right: 1em; text-align: center; vertical-align: top\">PositiveCharge</td>\n",
       "        <td style=\"padding-left: 1em; padding-right: 1em; text-align: center; vertical-align: top\">3.22</td>\n",
       "        <td style=\"padding-left: 1em; padding-right: 1em; text-align: center; vertical-align: top\">9.74</td>\n",
       "        <td style=\"padding-left: 1em; padding-right: 1em; text-align: center; vertical-align: top\">6.52</td>\n",
       "        <td style=\"padding-left: 1em; padding-right: 1em; text-align: center; vertical-align: top\">147</td>\n",
       "    </tr>\n",
       "</table>\n",
       "<table frame=\"box\" rules=\"cols\">\n",
       "    <tr>\n",
       "        <th style=\"padding-left: 1em; padding-right: 1em; text-align: center\">aa2_weight</th>\n",
       "        <th style=\"padding-left: 1em; padding-right: 1em; text-align: center\">deltaWeight</th>\n",
       "        <th style=\"padding-left: 1em; padding-right: 1em; text-align: center\">aa1vol</th>\n",
       "        <th style=\"padding-left: 1em; padding-right: 1em; text-align: center\">aa2vol</th>\n",
       "        <th style=\"padding-left: 1em; padding-right: 1em; text-align: center\">deltavolume</th>\n",
       "        <th style=\"padding-left: 1em; padding-right: 1em; text-align: center\">Grantham</th>\n",
       "        <th style=\"padding-left: 1em; padding-right: 1em; text-align: center\">aa1_psic</th>\n",
       "        <th style=\"padding-left: 1em; padding-right: 1em; text-align: center\">aa2_psic</th>\n",
       "        <th style=\"padding-left: 1em; padding-right: 1em; text-align: center\">delta_psic</th>\n",
       "        <th style=\"padding-left: 1em; padding-right: 1em; text-align: center\">accessibility</th>\n",
       "    </tr>\n",
       "    <tr>\n",
       "        <td style=\"padding-left: 1em; padding-right: 1em; text-align: center; vertical-align: top\">89</td>\n",
       "        <td style=\"padding-left: 1em; padding-right: 1em; text-align: center; vertical-align: top\">-58</td>\n",
       "        <td style=\"padding-left: 1em; padding-right: 1em; text-align: center; vertical-align: top\">138.4</td>\n",
       "        <td style=\"padding-left: 1em; padding-right: 1em; text-align: center; vertical-align: top\">88.6</td>\n",
       "        <td style=\"padding-left: 1em; padding-right: 1em; text-align: center; vertical-align: top\">-49.8</td>\n",
       "        <td style=\"padding-left: 1em; padding-right: 1em; text-align: center; vertical-align: top\">107</td>\n",
       "        <td style=\"padding-left: 1em; padding-right: 1em; text-align: center; vertical-align: top\">-1.273</td>\n",
       "        <td style=\"padding-left: 1em; padding-right: 1em; text-align: center; vertical-align: top\">-3.054</td>\n",
       "        <td style=\"padding-left: 1em; padding-right: 1em; text-align: center; vertical-align: top\">1.781</td>\n",
       "        <td style=\"padding-left: 1em; padding-right: 1em; text-align: center; vertical-align: top\">None</td>\n",
       "    </tr>\n",
       "    <tr>\n",
       "        <td style=\"padding-left: 1em; padding-right: 1em; text-align: center; vertical-align: top\">133</td>\n",
       "        <td style=\"padding-left: 1em; padding-right: 1em; text-align: center; vertical-align: top\">-14</td>\n",
       "        <td style=\"padding-left: 1em; padding-right: 1em; text-align: center; vertical-align: top\">138.4</td>\n",
       "        <td style=\"padding-left: 1em; padding-right: 1em; text-align: center; vertical-align: top\">111.1</td>\n",
       "        <td style=\"padding-left: 1em; padding-right: 1em; text-align: center; vertical-align: top\">-27.3</td>\n",
       "        <td style=\"padding-left: 1em; padding-right: 1em; text-align: center; vertical-align: top\">45</td>\n",
       "        <td style=\"padding-left: 1em; padding-right: 1em; text-align: center; vertical-align: top\">-1.273</td>\n",
       "        <td style=\"padding-left: 1em; padding-right: 1em; text-align: center; vertical-align: top\">-2.195</td>\n",
       "        <td style=\"padding-left: 1em; padding-right: 1em; text-align: center; vertical-align: top\">0.922</td>\n",
       "        <td style=\"padding-left: 1em; padding-right: 1em; text-align: center; vertical-align: top\">None</td>\n",
       "    </tr>\n",
       "    <tr>\n",
       "        <td style=\"padding-left: 1em; padding-right: 1em; text-align: center; vertical-align: top\">75</td>\n",
       "        <td style=\"padding-left: 1em; padding-right: 1em; text-align: center; vertical-align: top\">-72</td>\n",
       "        <td style=\"padding-left: 1em; padding-right: 1em; text-align: center; vertical-align: top\">138.4</td>\n",
       "        <td style=\"padding-left: 1em; padding-right: 1em; text-align: center; vertical-align: top\">60.1</td>\n",
       "        <td style=\"padding-left: 1em; padding-right: 1em; text-align: center; vertical-align: top\">-78.3</td>\n",
       "        <td style=\"padding-left: 1em; padding-right: 1em; text-align: center; vertical-align: top\">98</td>\n",
       "        <td style=\"padding-left: 1em; padding-right: 1em; text-align: center; vertical-align: top\">-1.273</td>\n",
       "        <td style=\"padding-left: 1em; padding-right: 1em; text-align: center; vertical-align: top\">-3.307</td>\n",
       "        <td style=\"padding-left: 1em; padding-right: 1em; text-align: center; vertical-align: top\">2.034</td>\n",
       "        <td style=\"padding-left: 1em; padding-right: 1em; text-align: center; vertical-align: top\">None</td>\n",
       "    </tr>\n",
       "    <tr>\n",
       "        <td style=\"padding-left: 1em; padding-right: 1em; text-align: center; vertical-align: top\">146</td>\n",
       "        <td style=\"padding-left: 1em; padding-right: 1em; text-align: center; vertical-align: top\">-1</td>\n",
       "        <td style=\"padding-left: 1em; padding-right: 1em; text-align: center; vertical-align: top\">138.4</td>\n",
       "        <td style=\"padding-left: 1em; padding-right: 1em; text-align: center; vertical-align: top\">168.6</td>\n",
       "        <td style=\"padding-left: 1em; padding-right: 1em; text-align: center; vertical-align: top\">30.2</td>\n",
       "        <td style=\"padding-left: 1em; padding-right: 1em; text-align: center; vertical-align: top\">56</td>\n",
       "        <td style=\"padding-left: 1em; padding-right: 1em; text-align: center; vertical-align: top\">-1.273</td>\n",
       "        <td style=\"padding-left: 1em; padding-right: 1em; text-align: center; vertical-align: top\">-3.096</td>\n",
       "        <td style=\"padding-left: 1em; padding-right: 1em; text-align: center; vertical-align: top\">1.823</td>\n",
       "        <td style=\"padding-left: 1em; padding-right: 1em; text-align: center; vertical-align: top\">None</td>\n",
       "    </tr>\n",
       "    <tr>\n",
       "        <td style=\"padding-left: 1em; padding-right: 1em; text-align: center; vertical-align: top\">146</td>\n",
       "        <td style=\"padding-left: 1em; padding-right: 1em; text-align: center; vertical-align: top\">-1</td>\n",
       "        <td style=\"padding-left: 1em; padding-right: 1em; text-align: center; vertical-align: top\">138.4</td>\n",
       "        <td style=\"padding-left: 1em; padding-right: 1em; text-align: center; vertical-align: top\">143.8</td>\n",
       "        <td style=\"padding-left: 1em; padding-right: 1em; text-align: center; vertical-align: top\">5.4</td>\n",
       "        <td style=\"padding-left: 1em; padding-right: 1em; text-align: center; vertical-align: top\">29</td>\n",
       "        <td style=\"padding-left: 1em; padding-right: 1em; text-align: center; vertical-align: top\">-1.273</td>\n",
       "        <td style=\"padding-left: 1em; padding-right: 1em; text-align: center; vertical-align: top\">-2.465</td>\n",
       "        <td style=\"padding-left: 1em; padding-right: 1em; text-align: center; vertical-align: top\">1.192</td>\n",
       "        <td style=\"padding-left: 1em; padding-right: 1em; text-align: center; vertical-align: top\">None</td>\n",
       "    </tr>\n",
       "    <tr>\n",
       "        <td style=\"padding-left: 1em; padding-right: 1em; text-align: center; vertical-align: top\">117</td>\n",
       "        <td style=\"padding-left: 1em; padding-right: 1em; text-align: center; vertical-align: top\">-30</td>\n",
       "        <td style=\"padding-left: 1em; padding-right: 1em; text-align: center; vertical-align: top\">138.4</td>\n",
       "        <td style=\"padding-left: 1em; padding-right: 1em; text-align: center; vertical-align: top\">140.0</td>\n",
       "        <td style=\"padding-left: 1em; padding-right: 1em; text-align: center; vertical-align: top\">1.6</td>\n",
       "        <td style=\"padding-left: 1em; padding-right: 1em; text-align: center; vertical-align: top\">121</td>\n",
       "        <td style=\"padding-left: 1em; padding-right: 1em; text-align: center; vertical-align: top\">-1.273</td>\n",
       "        <td style=\"padding-left: 1em; padding-right: 1em; text-align: center; vertical-align: top\">-3.462</td>\n",
       "        <td style=\"padding-left: 1em; padding-right: 1em; text-align: center; vertical-align: top\">2.189</td>\n",
       "        <td style=\"padding-left: 1em; padding-right: 1em; text-align: center; vertical-align: top\">None</td>\n",
       "    </tr>\n",
       "    <tr>\n",
       "        <td style=\"padding-left: 1em; padding-right: 1em; text-align: center; vertical-align: top\">89</td>\n",
       "        <td style=\"padding-left: 1em; padding-right: 1em; text-align: center; vertical-align: top\">-58</td>\n",
       "        <td style=\"padding-left: 1em; padding-right: 1em; text-align: center; vertical-align: top\">138.4</td>\n",
       "        <td style=\"padding-left: 1em; padding-right: 1em; text-align: center; vertical-align: top\">88.6</td>\n",
       "        <td style=\"padding-left: 1em; padding-right: 1em; text-align: center; vertical-align: top\">-49.8</td>\n",
       "        <td style=\"padding-left: 1em; padding-right: 1em; text-align: center; vertical-align: top\">107</td>\n",
       "        <td style=\"padding-left: 1em; padding-right: 1em; text-align: center; vertical-align: top\">-1.273</td>\n",
       "        <td style=\"padding-left: 1em; padding-right: 1em; text-align: center; vertical-align: top\">-3.178</td>\n",
       "        <td style=\"padding-left: 1em; padding-right: 1em; text-align: center; vertical-align: top\">1.905</td>\n",
       "        <td style=\"padding-left: 1em; padding-right: 1em; text-align: center; vertical-align: top\">None</td>\n",
       "    </tr>\n",
       "    <tr>\n",
       "        <td style=\"padding-left: 1em; padding-right: 1em; text-align: center; vertical-align: top\">133</td>\n",
       "        <td style=\"padding-left: 1em; padding-right: 1em; text-align: center; vertical-align: top\">-14</td>\n",
       "        <td style=\"padding-left: 1em; padding-right: 1em; text-align: center; vertical-align: top\">138.4</td>\n",
       "        <td style=\"padding-left: 1em; padding-right: 1em; text-align: center; vertical-align: top\">111.1</td>\n",
       "        <td style=\"padding-left: 1em; padding-right: 1em; text-align: center; vertical-align: top\">-27.3</td>\n",
       "        <td style=\"padding-left: 1em; padding-right: 1em; text-align: center; vertical-align: top\">45</td>\n",
       "        <td style=\"padding-left: 1em; padding-right: 1em; text-align: center; vertical-align: top\">-1.273</td>\n",
       "        <td style=\"padding-left: 1em; padding-right: 1em; text-align: center; vertical-align: top\">-1.896</td>\n",
       "        <td style=\"padding-left: 1em; padding-right: 1em; text-align: center; vertical-align: top\">0.623</td>\n",
       "        <td style=\"padding-left: 1em; padding-right: 1em; text-align: center; vertical-align: top\">None</td>\n",
       "    </tr>\n",
       "    <tr>\n",
       "        <td style=\"padding-left: 1em; padding-right: 1em; text-align: center; vertical-align: top\">75</td>\n",
       "        <td style=\"padding-left: 1em; padding-right: 1em; text-align: center; vertical-align: top\">-72</td>\n",
       "        <td style=\"padding-left: 1em; padding-right: 1em; text-align: center; vertical-align: top\">138.4</td>\n",
       "        <td style=\"padding-left: 1em; padding-right: 1em; text-align: center; vertical-align: top\">60.1</td>\n",
       "        <td style=\"padding-left: 1em; padding-right: 1em; text-align: center; vertical-align: top\">-78.3</td>\n",
       "        <td style=\"padding-left: 1em; padding-right: 1em; text-align: center; vertical-align: top\">98</td>\n",
       "        <td style=\"padding-left: 1em; padding-right: 1em; text-align: center; vertical-align: top\">-1.273</td>\n",
       "        <td style=\"padding-left: 1em; padding-right: 1em; text-align: center; vertical-align: top\">-3.313</td>\n",
       "        <td style=\"padding-left: 1em; padding-right: 1em; text-align: center; vertical-align: top\">2.04</td>\n",
       "        <td style=\"padding-left: 1em; padding-right: 1em; text-align: center; vertical-align: top\">None</td>\n",
       "    </tr>\n",
       "    <tr>\n",
       "        <td style=\"padding-left: 1em; padding-right: 1em; text-align: center; vertical-align: top\">146</td>\n",
       "        <td style=\"padding-left: 1em; padding-right: 1em; text-align: center; vertical-align: top\">-1</td>\n",
       "        <td style=\"padding-left: 1em; padding-right: 1em; text-align: center; vertical-align: top\">138.4</td>\n",
       "        <td style=\"padding-left: 1em; padding-right: 1em; text-align: center; vertical-align: top\">168.6</td>\n",
       "        <td style=\"padding-left: 1em; padding-right: 1em; text-align: center; vertical-align: top\">30.2</td>\n",
       "        <td style=\"padding-left: 1em; padding-right: 1em; text-align: center; vertical-align: top\">56</td>\n",
       "        <td style=\"padding-left: 1em; padding-right: 1em; text-align: center; vertical-align: top\">-1.273</td>\n",
       "        <td style=\"padding-left: 1em; padding-right: 1em; text-align: center; vertical-align: top\">-3.222</td>\n",
       "        <td style=\"padding-left: 1em; padding-right: 1em; text-align: center; vertical-align: top\">1.949</td>\n",
       "        <td style=\"padding-left: 1em; padding-right: 1em; text-align: center; vertical-align: top\">None</td>\n",
       "    </tr>\n",
       "</table>\n",
       "<table frame=\"box\" rules=\"cols\">\n",
       "    <tr>\n",
       "        <th style=\"padding-left: 1em; padding-right: 1em; text-align: center\">dssp_sec_str</th>\n",
       "        <th style=\"padding-left: 1em; padding-right: 1em; text-align: center\">phi_psi_reg</th>\n",
       "        <th style=\"padding-left: 1em; padding-right: 1em; text-align: center\">delta_solvent_accessibili<br>ty ...</th>\n",
       "        <th style=\"padding-left: 1em; padding-right: 1em; text-align: center\">b_factor</th>\n",
       "        <th style=\"padding-left: 1em; padding-right: 1em; text-align: center\">mut_msa_congruency</th>\n",
       "        <th style=\"padding-left: 1em; padding-right: 1em; text-align: center\">mut_mut_msa_congruency</th>\n",
       "    </tr>\n",
       "    <tr>\n",
       "        <td style=\"padding-left: 1em; padding-right: 1em; text-align: center; vertical-align: top\">None</td>\n",
       "        <td style=\"padding-left: 1em; padding-right: 1em; text-align: center; vertical-align: top\"></td>\n",
       "        <td style=\"padding-left: 1em; padding-right: 1em; text-align: center; vertical-align: top\">None</td>\n",
       "        <td style=\"padding-left: 1em; padding-right: 1em; text-align: center; vertical-align: top\">None</td>\n",
       "        <td style=\"padding-left: 1em; padding-right: 1em; text-align: center; vertical-align: top\">4.516</td>\n",
       "        <td style=\"padding-left: 1em; padding-right: 1em; text-align: center; vertical-align: top\">None</td>\n",
       "    </tr>\n",
       "    <tr>\n",
       "        <td style=\"padding-left: 1em; padding-right: 1em; text-align: center; vertical-align: top\">None</td>\n",
       "        <td style=\"padding-left: 1em; padding-right: 1em; text-align: center; vertical-align: top\"></td>\n",
       "        <td style=\"padding-left: 1em; padding-right: 1em; text-align: center; vertical-align: top\">None</td>\n",
       "        <td style=\"padding-left: 1em; padding-right: 1em; text-align: center; vertical-align: top\">None</td>\n",
       "        <td style=\"padding-left: 1em; padding-right: 1em; text-align: center; vertical-align: top\">30.486</td>\n",
       "        <td style=\"padding-left: 1em; padding-right: 1em; text-align: center; vertical-align: top\">30.486</td>\n",
       "    </tr>\n",
       "    <tr>\n",
       "        <td style=\"padding-left: 1em; padding-right: 1em; text-align: center; vertical-align: top\">None</td>\n",
       "        <td style=\"padding-left: 1em; padding-right: 1em; text-align: center; vertical-align: top\"></td>\n",
       "        <td style=\"padding-left: 1em; padding-right: 1em; text-align: center; vertical-align: top\">None</td>\n",
       "        <td style=\"padding-left: 1em; padding-right: 1em; text-align: center; vertical-align: top\">None</td>\n",
       "        <td style=\"padding-left: 1em; padding-right: 1em; text-align: center; vertical-align: top\">3.614</td>\n",
       "        <td style=\"padding-left: 1em; padding-right: 1em; text-align: center; vertical-align: top\">None</td>\n",
       "    </tr>\n",
       "    <tr>\n",
       "        <td style=\"padding-left: 1em; padding-right: 1em; text-align: center; vertical-align: top\">None</td>\n",
       "        <td style=\"padding-left: 1em; padding-right: 1em; text-align: center; vertical-align: top\"></td>\n",
       "        <td style=\"padding-left: 1em; padding-right: 1em; text-align: center; vertical-align: top\">None</td>\n",
       "        <td style=\"padding-left: 1em; padding-right: 1em; text-align: center; vertical-align: top\">None</td>\n",
       "        <td style=\"padding-left: 1em; padding-right: 1em; text-align: center; vertical-align: top\">7.268</td>\n",
       "        <td style=\"padding-left: 1em; padding-right: 1em; text-align: center; vertical-align: top\">None</td>\n",
       "    </tr>\n",
       "    <tr>\n",
       "        <td style=\"padding-left: 1em; padding-right: 1em; text-align: center; vertical-align: top\">None</td>\n",
       "        <td style=\"padding-left: 1em; padding-right: 1em; text-align: center; vertical-align: top\"></td>\n",
       "        <td style=\"padding-left: 1em; padding-right: 1em; text-align: center; vertical-align: top\">None</td>\n",
       "        <td style=\"padding-left: 1em; padding-right: 1em; text-align: center; vertical-align: top\">None</td>\n",
       "        <td style=\"padding-left: 1em; padding-right: 1em; text-align: center; vertical-align: top\">17.202</td>\n",
       "        <td style=\"padding-left: 1em; padding-right: 1em; text-align: center; vertical-align: top\">17.202</td>\n",
       "    </tr>\n",
       "    <tr>\n",
       "        <td style=\"padding-left: 1em; padding-right: 1em; text-align: center; vertical-align: top\">None</td>\n",
       "        <td style=\"padding-left: 1em; padding-right: 1em; text-align: center; vertical-align: top\"></td>\n",
       "        <td style=\"padding-left: 1em; padding-right: 1em; text-align: center; vertical-align: top\">None</td>\n",
       "        <td style=\"padding-left: 1em; padding-right: 1em; text-align: center; vertical-align: top\">None</td>\n",
       "        <td style=\"padding-left: 1em; padding-right: 1em; text-align: center; vertical-align: top\">3.804</td>\n",
       "        <td style=\"padding-left: 1em; padding-right: 1em; text-align: center; vertical-align: top\">None</td>\n",
       "    </tr>\n",
       "    <tr>\n",
       "        <td style=\"padding-left: 1em; padding-right: 1em; text-align: center; vertical-align: top\">None</td>\n",
       "        <td style=\"padding-left: 1em; padding-right: 1em; text-align: center; vertical-align: top\"></td>\n",
       "        <td style=\"padding-left: 1em; padding-right: 1em; text-align: center; vertical-align: top\">None</td>\n",
       "        <td style=\"padding-left: 1em; padding-right: 1em; text-align: center; vertical-align: top\">None</td>\n",
       "        <td style=\"padding-left: 1em; padding-right: 1em; text-align: center; vertical-align: top\">3.607</td>\n",
       "        <td style=\"padding-left: 1em; padding-right: 1em; text-align: center; vertical-align: top\">None</td>\n",
       "    </tr>\n",
       "    <tr>\n",
       "        <td style=\"padding-left: 1em; padding-right: 1em; text-align: center; vertical-align: top\">None</td>\n",
       "        <td style=\"padding-left: 1em; padding-right: 1em; text-align: center; vertical-align: top\"></td>\n",
       "        <td style=\"padding-left: 1em; padding-right: 1em; text-align: center; vertical-align: top\">None</td>\n",
       "        <td style=\"padding-left: 1em; padding-right: 1em; text-align: center; vertical-align: top\">None</td>\n",
       "        <td style=\"padding-left: 1em; padding-right: 1em; text-align: center; vertical-align: top\">31.899</td>\n",
       "        <td style=\"padding-left: 1em; padding-right: 1em; text-align: center; vertical-align: top\">31.899</td>\n",
       "    </tr>\n",
       "    <tr>\n",
       "        <td style=\"padding-left: 1em; padding-right: 1em; text-align: center; vertical-align: top\">None</td>\n",
       "        <td style=\"padding-left: 1em; padding-right: 1em; text-align: center; vertical-align: top\"></td>\n",
       "        <td style=\"padding-left: 1em; padding-right: 1em; text-align: center; vertical-align: top\">None</td>\n",
       "        <td style=\"padding-left: 1em; padding-right: 1em; text-align: center; vertical-align: top\">None</td>\n",
       "        <td style=\"padding-left: 1em; padding-right: 1em; text-align: center; vertical-align: top\">3.782</td>\n",
       "        <td style=\"padding-left: 1em; padding-right: 1em; text-align: center; vertical-align: top\">None</td>\n",
       "    </tr>\n",
       "    <tr>\n",
       "        <td style=\"padding-left: 1em; padding-right: 1em; text-align: center; vertical-align: top\">None</td>\n",
       "        <td style=\"padding-left: 1em; padding-right: 1em; text-align: center; vertical-align: top\"></td>\n",
       "        <td style=\"padding-left: 1em; padding-right: 1em; text-align: center; vertical-align: top\">None</td>\n",
       "        <td style=\"padding-left: 1em; padding-right: 1em; text-align: center; vertical-align: top\">None</td>\n",
       "        <td style=\"padding-left: 1em; padding-right: 1em; text-align: center; vertical-align: top\">3.667</td>\n",
       "        <td style=\"padding-left: 1em; padding-right: 1em; text-align: center; vertical-align: top\">None</td>\n",
       "    </tr>\n",
       "</table>\n",
       "<table frame=\"box\" rules=\"cols\">\n",
       "    <tr>\n",
       "        <th style=\"padding-left: 1em; padding-right: 1em; text-align: center\">seq_ind_closest_mut</th>\n",
       "        <th style=\"padding-left: 1em; padding-right: 1em; text-align: center\">...</th>\n",
       "    </tr>\n",
       "    <tr>\n",
       "        <td style=\"padding-left: 1em; padding-right: 1em; text-align: center; vertical-align: top\">80.41</td>\n",
       "        <td style=\"padding-left: 1em; padding-right: 1em; text-align: center; vertical-align: top\">...</td>\n",
       "    </tr>\n",
       "    <tr>\n",
       "        <td style=\"padding-left: 1em; padding-right: 1em; text-align: center; vertical-align: top\">80.41</td>\n",
       "        <td style=\"padding-left: 1em; padding-right: 1em; text-align: center; vertical-align: top\">...</td>\n",
       "    </tr>\n",
       "    <tr>\n",
       "        <td style=\"padding-left: 1em; padding-right: 1em; text-align: center; vertical-align: top\">80.41</td>\n",
       "        <td style=\"padding-left: 1em; padding-right: 1em; text-align: center; vertical-align: top\">...</td>\n",
       "    </tr>\n",
       "    <tr>\n",
       "        <td style=\"padding-left: 1em; padding-right: 1em; text-align: center; vertical-align: top\">80.41</td>\n",
       "        <td style=\"padding-left: 1em; padding-right: 1em; text-align: center; vertical-align: top\">...</td>\n",
       "    </tr>\n",
       "    <tr>\n",
       "        <td style=\"padding-left: 1em; padding-right: 1em; text-align: center; vertical-align: top\">80.41</td>\n",
       "        <td style=\"padding-left: 1em; padding-right: 1em; text-align: center; vertical-align: top\">...</td>\n",
       "    </tr>\n",
       "    <tr>\n",
       "        <td style=\"padding-left: 1em; padding-right: 1em; text-align: center; vertical-align: top\">80.41</td>\n",
       "        <td style=\"padding-left: 1em; padding-right: 1em; text-align: center; vertical-align: top\">...</td>\n",
       "    </tr>\n",
       "    <tr>\n",
       "        <td style=\"padding-left: 1em; padding-right: 1em; text-align: center; vertical-align: top\">80.41</td>\n",
       "        <td style=\"padding-left: 1em; padding-right: 1em; text-align: center; vertical-align: top\">...</td>\n",
       "    </tr>\n",
       "    <tr>\n",
       "        <td style=\"padding-left: 1em; padding-right: 1em; text-align: center; vertical-align: top\">80.41</td>\n",
       "        <td style=\"padding-left: 1em; padding-right: 1em; text-align: center; vertical-align: top\">...</td>\n",
       "    </tr>\n",
       "    <tr>\n",
       "        <td style=\"padding-left: 1em; padding-right: 1em; text-align: center; vertical-align: top\">80.41</td>\n",
       "        <td style=\"padding-left: 1em; padding-right: 1em; text-align: center; vertical-align: top\">...</td>\n",
       "    </tr>\n",
       "    <tr>\n",
       "        <td style=\"padding-left: 1em; padding-right: 1em; text-align: center; vertical-align: top\">80.41</td>\n",
       "        <td style=\"padding-left: 1em; padding-right: 1em; text-align: center; vertical-align: top\">...</td>\n",
       "    </tr>\n",
       "</table>\n",
       "[2312 rows x 47 columns]<br/>Note: Only the head of the SFrame is printed.<br/>You can use print_rows(num_rows=m, num_columns=n) to print more rows and columns.\n",
       "</div>"
      ],
      "text/plain": [
       "Columns:\n",
       "\tX1\tstr\n",
       "\tX\tint\n",
       "\tProtein\tstr\n",
       "\tuniprot_id\tstr\n",
       "\tmutation\tstr\n",
       "\tid\tstr\n",
       "\tActivity\tint\n",
       "\teffect\tstr\n",
       "\teffect2\tstr\n",
       "\taa1\tstr\n",
       "\taa2\tstr\n",
       "\tpos\tint\n",
       "\tSNAP2_class\tstr\n",
       "\tSNAP2_score\tint\n",
       "\tid2\tstr\n",
       "\tWT_Mut\tstr\n",
       "\tVariant\tstr\n",
       "\taa1_polarity\tstr\n",
       "\taa2_polarity\tstr\n",
       "\taa1_PI\tfloat\n",
       "\taa2_PI\tfloat\n",
       "\tdeltaPI\tfloat\n",
       "\taa1_weight\tint\n",
       "\taa2_weight\tint\n",
       "\tdeltaWeight\tint\n",
       "\taa1vol\tfloat\n",
       "\taa2vol\tfloat\n",
       "\tdeltavolume\tfloat\n",
       "\tGrantham\tint\n",
       "\taa1_psic\tfloat\n",
       "\taa2_psic\tfloat\n",
       "\tdelta_psic\tfloat\n",
       "\taccessibility\tfloat\n",
       "\tdssp_sec_str\tstr\n",
       "\tphi_psi_reg\tstr\n",
       "\tdelta_solvent_accessibility\tfloat\n",
       "\tb_factor\tint\n",
       "\tmut_msa_congruency\tfloat\n",
       "\tmut_mut_msa_congruency\tfloat\n",
       "\tseq_ind_closest_mut\tfloat\n",
       "\tevolutionary_coupling_avg\tfloat\n",
       "\tevolutionary_coupling_prop\tfloat\n",
       "\tevolutionary_coupling_avg_norm\tfloat\n",
       "\tselection_coefficient\tfloat\n",
       "\tX45\tfloat\n",
       "\tsnap2score_normalized\tfloat\n",
       "\teffect_numeric\tint\n",
       "\n",
       "Rows: 2312\n",
       "\n",
       "Data:\n",
       "+------+------+---------+------------+----------+----------+----------+--------+\n",
       "|  X1  |  X   | Protein | uniprot_id | mutation |    id    | Activity | effect |\n",
       "+------+------+---------+------------+----------+----------+----------+--------+\n",
       "| 4378 | 4378 |   TP53  |   P04637   |   E2A    | P04637_2 |   131    | other  |\n",
       "| 4379 | 4379 |   TP53  |   P04637   |   E2D    | P04637_2 |    99    | other  |\n",
       "| 4380 | 4380 |   TP53  |   P04637   |   E2G    | P04637_2 |    92    | other  |\n",
       "| 4381 | 4381 |   TP53  |   P04637   |   E2K    | P04637_2 |   145    | other  |\n",
       "| 4382 | 4382 |   TP53  |   P04637   |   E2Q    | P04637_2 |   131    | other  |\n",
       "| 4383 | 4383 |   TP53  |   P04637   |   E2V    | P04637_2 |   133    | other  |\n",
       "| 4384 | 4384 |   TP53  |   P04637   |   E3A    | P04637_3 |   112    | other  |\n",
       "| 4385 | 4385 |   TP53  |   P04637   |   E3D    | P04637_3 |   103    | other  |\n",
       "| 4386 | 4386 |   TP53  |   P04637   |   E3G    | P04637_3 |    80    | other  |\n",
       "| 4387 | 4387 |   TP53  |   P04637   |   E3K    | P04637_3 |   127    | other  |\n",
       "+------+------+---------+------------+----------+----------+----------+--------+\n",
       "+---------+-----+-----+-----+-------------+-------------+------------+--------+\n",
       "| effect2 | aa1 | aa2 | pos | SNAP2_class | SNAP2_score |    id2     | WT_Mut |\n",
       "+---------+-----+-----+-----+-------------+-------------+------------+--------+\n",
       "|   None  |  E  |  A  |  2  |    other    |     -38     | P04637_E2A |   EA   |\n",
       "|   None  |  E  |  D  |  2  |    other    |     -81     | P04637_E2D |   ED   |\n",
       "|   None  |  E  |  G  |  2  |    other    |     -30     | P04637_E2G |   EG   |\n",
       "|   None  |  E  |  K  |  2  |    other    |     -14     | P04637_E2K |   EK   |\n",
       "|   None  |  E  |  Q  |  2  |    other    |     -58     | P04637_E2Q |   EQ   |\n",
       "|   None  |  E  |  V  |  2  |    other    |     -45     | P04637_E2V |   EV   |\n",
       "|   None  |  E  |  A  |  3  |    other    |     -35     | P04637_E3A |   EA   |\n",
       "|   None  |  E  |  D  |  3  |    other    |     -89     | P04637_E3D |   ED   |\n",
       "|   None  |  E  |  G  |  3  |    other    |      -6     | P04637_E3G |   EG   |\n",
       "|   None  |  E  |  K  |  3  |    other    |      -2     | P04637_E3K |   EK   |\n",
       "+---------+-----+-----+-----+-------------+-------------+------------+--------+\n",
       "+---------+----------------+----------------+--------+-----+\n",
       "| Variant |  aa1_polarity  |  aa2_polarity  | aa1_PI | ... |\n",
       "+---------+----------------+----------------+--------+-----+\n",
       "|    EA   | negativeCharge |  Hydrophobic   |  3.22  | ... |\n",
       "|    ED   | negativeCharge | negativeCharge |  3.22  | ... |\n",
       "|    EG   | negativeCharge |    Special     |  3.22  | ... |\n",
       "|    EK   | negativeCharge | PositiveCharge |  3.22  | ... |\n",
       "|    EQ   | negativeCharge |     Polar      |  3.22  | ... |\n",
       "|    EV   | negativeCharge |  Hydrophobic   |  3.22  | ... |\n",
       "|    EA   | negativeCharge |  Hydrophobic   |  3.22  | ... |\n",
       "|    ED   | negativeCharge | negativeCharge |  3.22  | ... |\n",
       "|    EG   | negativeCharge |    Special     |  3.22  | ... |\n",
       "|    EK   | negativeCharge | PositiveCharge |  3.22  | ... |\n",
       "+---------+----------------+----------------+--------+-----+\n",
       "[2312 rows x 47 columns]\n",
       "Note: Only the head of the SFrame is printed.\n",
       "You can use print_rows(num_rows=m, num_columns=n) to print more rows and columns."
      ]
     },
     "execution_count": 86,
     "metadata": {},
     "output_type": "execute_result"
    }
   ],
   "source": [
    "tp53['snap2score_normalized'] = (tp53['SNAP2_score']) + 100 / 200\n",
    "tp53['effect_numeric'] = (tp53['effect'] == 'damaging')\n",
    "tp53"
   ]
  },
  {
   "cell_type": "code",
   "execution_count": 98,
   "id": "8ff6b6e1-3eec-415e-8ddc-c5af48b75583",
   "metadata": {},
   "outputs": [
    {
     "name": "stdout",
     "output_type": "stream",
     "text": [
      "Snap2 AUC: 0.833\n"
     ]
    }
   ],
   "source": [
    "from sklearn.metrics import roc_curve,roc_auc_score\n",
    "\n",
    "snap2_fpr, snap2_tpr, snap2_thresholds = roc_curve(tp53['effect_numeric'].to_numpy(), tp53['snap2score_normalized'].to_numpy())\n",
    "snap2_auc = roc_auc_score(tp53['effect_numeric'].to_numpy(), tp53['snap2score_normalized'].to_numpy())\n",
    "print('Snap2 AUC: %.3f' % snap2_auc)"
   ]
  },
  {
   "cell_type": "code",
   "execution_count": 90,
   "id": "9246871f-1be2-4a49-b10d-1ba7ea34b746",
   "metadata": {},
   "outputs": [],
   "source": [
    "envision_predictions_column = 'X45'\n",
    "# normalize to [0, 1] where 0 means no effect, 1 means loss of pathgenicity\n",
    "pred = tp53[envision_predictions_column]\n",
    "tp53['envision_predictions_normalized'] = 1 - (pred - pred.min()) / (pred.max() - pred.min())"
   ]
  },
  {
   "cell_type": "code",
   "execution_count": 99,
   "id": "009b72f4-4f26-4f80-99c0-26f284247e37",
   "metadata": {
    "tags": []
   },
   "outputs": [
    {
     "name": "stdout",
     "output_type": "stream",
     "text": [
      "Envision AUC: 0.842\n"
     ]
    }
   ],
   "source": [
    "envision_fpr, envision_tpr, envision_thresholds = roc_curve(tp53['effect_numeric'].to_numpy(), tp53['envision_predictions_normalized'].to_numpy())\n",
    "envision_auc = roc_auc_score(tp53['effect_numeric'].to_numpy(), tp53['envision_predictions_normalized'].to_numpy())\n",
    "print('Envision AUC: %.3f' % envision_auc)\n"
   ]
  },
  {
   "cell_type": "code",
   "execution_count": 100,
   "id": "901bf589-f85f-4a7a-9006-8313b044ff21",
   "metadata": {
    "tags": []
   },
   "outputs": [
    {
     "data": {
      "text/plain": [
       "<matplotlib.legend.Legend at 0x7f24f9b89fd0>"
      ]
     },
     "execution_count": 100,
     "metadata": {},
     "output_type": "execute_result"
    },
    {
     "data": {
      "image/png": "[encoded data removed]",
      "text/plain": [
       "<Figure size 800x800 with 1 Axes>"
      ]
     },
     "metadata": {},
     "output_type": "display_data"
    }
   ],
   "source": [
    "fig = plt.figure(figsize=(8,8))\n",
    "baseline = np.linspace(0, 1, num=50)\n",
    "ax = fig.add_subplot(111)\n",
    "ax.set_xlabel('fpr')\n",
    "ax.set_ylabel('tpr')\n",
    "font = {'family': 'serif',\n",
    "        'weight' : 'normal',\n",
    "        'size'   : 18}\n",
    "\n",
    "plt.rc('font', **font)\n",
    "ax.plot(snap2_fpr, snap2_tpr, label='snap2')\n",
    "ax.plot(envision_fpr, envision_tpr, label='envision')\n",
    "ax.plot(baseline, baseline, '--', label='baseline')\n",
    "plt.legend()"
   ]
  },
  {
   "cell_type": "code",
   "execution_count": 118,
   "id": "ab5cb6d2-84b1-4107-9b32-74eb098636e5",
   "metadata": {},
   "outputs": [
    {
     "data": {
      "image/png": "[encoded data removed]",
      "text/plain": [
       "<Figure size 1100x800 with 2 Axes>"
      ]
     },
     "metadata": {},
     "output_type": "display_data"
    },
    {
     "name": "stderr",
     "output_type": "stream",
     "text": [
      "/tmp/ipykernel_62891/2258043685.py:16: DeprecationWarning: Please use `pearsonr` from the `scipy.stats` namespace, the `scipy.stats.stats` namespace is deprecated.\n",
      "  stats.pearsonr(tp53['Activity'], pred)\n"
     ]
    },
    {
     "data": {
      "text/plain": [
       "PearsonRResult(statistic=0.5841982075251015, pvalue=1.1140389959296911e-211)"
      ]
     },
     "execution_count": 118,
     "metadata": {},
     "output_type": "execute_result"
    }
   ],
   "source": [
    "predictions = tp53['X45']\n",
    "fig = plt.figure(figsize=(11,8))\n",
    "ax = fig.add_subplot(111)\n",
    "ax.set_xlabel('Observed score')\n",
    "ax.set_ylabel('Predicted score')\n",
    "pic = ax.hexbin(tp53['Activity'],predictions,gridsize=45,mincnt= 5)\n",
    "font = {'family' : 'serif',\n",
    "        'weight' : 'normal',\n",
    "        'size'   : 18}\n",
    "cb = plt.colorbar(pic)\n",
    "cb.set_label('mutation count')\n",
    "plt.rc('font', **font)\n",
    "ax.axis('tight')\n",
    "plt.show()\n",
    "stats.pearsonr(tp53['Activity'], pred)\n"
   ]
  },
  {
   "cell_type": "code",
   "execution_count": 115,
   "id": "eff79d2d-0857-4f33-987d-fdc715807b2a",
   "metadata": {},
   "outputs": [
    {
     "data": {
      "text/plain": [
       "248"
      ]
     },
     "execution_count": 115,
     "metadata": {},
     "output_type": "execute_result"
    }
   ],
   "source": [
    "tp53['Activity'].max()"
   ]
  },
  {
   "cell_type": "markdown",
   "id": "33f2b5c5-6ac0-4d6b-b3a0-47c22697c38e",
   "metadata": {},
   "source": [
    "## Old Code"
   ]
  },
  {
   "cell_type": "code",
   "execution_count": null,
   "id": "bound-weight",
   "metadata": {
    "collapsed": false,
    "deletable": true,
    "editable": true,
    "jupyter": {
     "outputs_hidden": false
    }
   },
   "outputs": [],
   "source": [
    "## Use SNAP2 to predict TP53\n",
    "stats.spearmanr(tp53['Activity'], tp53['SNAP2_score'])"
   ]
  },
  {
   "cell_type": "code",
   "execution_count": null,
   "id": "functional-copyright",
   "metadata": {
    "collapsed": false,
    "deletable": true,
    "editable": true,
    "jupyter": {
     "outputs_hidden": false
    },
    "scrolled": true
   },
   "outputs": [],
   "source": [
    "## Look at Envision predictive performance for each mutant amino acid (aa2)\n",
    "## Predictive performance is measured with Pearson CC here\n",
    "tp53.to_dataframe().groupby(['aa2'])['Activity', 'X45'].corr()"
   ]
  },
  {
   "cell_type": "code",
   "execution_count": null,
   "id": "annoying-button",
   "metadata": {
    "collapsed": false,
    "deletable": true,
    "editable": true,
    "jupyter": {
     "outputs_hidden": false
    }
   },
   "outputs": [],
   "source": [
    "## Look at Envision predictive performance for each original amino acid (aa1)\n",
    "## Predictive performance is measured with Pearson CC here\n",
    "tp53.to_dataframe().groupby(['aa1'])['Activity', 'X45'].corr()"
   ]
  },
  {
   "cell_type": "code",
   "execution_count": null,
   "id": "bright-richardson",
   "metadata": {
    "collapsed": false,
    "deletable": true,
    "editable": true,
    "jupyter": {
     "outputs_hidden": false
    }
   },
   "outputs": [],
   "source": [
    "## Look at SNAP2 predictive performance for each mutant amino acid (aa2)\n",
    "## Predictive performance is measured with Pearson CC here\n",
    "tp53.to_dataframe().groupby(['aa2'])['Activity', 'SNAP2_score'].corr()"
   ]
  },
  {
   "cell_type": "code",
   "execution_count": null,
   "id": "fundamental-guard",
   "metadata": {
    "collapsed": false,
    "deletable": true,
    "editable": true,
    "jupyter": {
     "outputs_hidden": false
    }
   },
   "outputs": [],
   "source": [
    "## Look at Envision predictive performance for each original amino acid (aa1)\n",
    "## Predictive performance is measured with Pearson CC here\n",
    "tp53.to_dataframe().groupby(['aa1'])['Activity', 'SNAP2_score'].corr()"
   ]
  },
  {
   "cell_type": "code",
   "execution_count": null,
   "id": "located-establishment",
   "metadata": {
    "collapsed": false,
    "deletable": true,
    "editable": true,
    "jupyter": {
     "outputs_hidden": false
    }
   },
   "outputs": [],
   "source": [
    "## Figure 3D: Hexbin plot showing correlation between TP53 varian effects and \n",
    "## Envision predictions (y-axis). \n",
    "\n",
    "## Build the plot\n",
    "ax = plt.hexbin(tp53['Activity'],tp53['X45'],\n",
    "           cmap=plt.cm.YlGnBu_r,\n",
    "           gridsize=20,\n",
    "           bins=None,\n",
    "           mincnt=5,\n",
    "        vmin= 1,\n",
    "               vmax = 100)        #hexbinning\n",
    "                          #necessary for correct aspect ratio\n",
    "## Formatting code\n",
    "    plt.axis([-10, 200, 0.3, 1.05])\n",
    "cb = plt.colorbar()\n",
    "cb.set_label('mutation count')\n",
    "font = {'family' : 'normal',\n",
    "        'weight' : 'normal',\n",
    "        'size'   : 18}\n",
    "\n",
    "plt.rc('font', **font)\n",
    "plt.show()\n",
    "\n",
    "## Measure correlation between predictions and TP523 with pearson and spearman CC\n",
    "stats.pearsonr(tp53['Activity'], tp53['X45'])\n",
    "stats.spearmanr(tp53['Activity'], tp53['X45'])"
   ]
  },
  {
   "cell_type": "code",
   "execution_count": null,
   "id": "numerous-pacific",
   "metadata": {
    "collapsed": false,
    "deletable": true,
    "editable": true,
    "jupyter": {
     "outputs_hidden": false
    }
   },
   "outputs": [],
   "source": [
    "## Feature importance analysis\n",
    "## Use get_feature_importance function from graphlab\n",
    "importance = global_regression_model_noSELCO.get_feature_importance()\n",
    "importance"
   ]
  },
  {
   "cell_type": "code",
   "execution_count": null,
   "id": "sitting-virtue",
   "metadata": {
    "collapsed": false,
    "deletable": true,
    "editable": true,
    "jupyter": {
     "outputs_hidden": false
    }
   },
   "outputs": [],
   "source": [
    "## Treat categorical features as dummy variables\n",
    "importance.groupby(key_columns=['name', 'index'], operations={'count': agg.SUM('count')}).sort('count', ascending=False).print_rows(num_rows = 25)"
   ]
  },
  {
   "cell_type": "code",
   "execution_count": null,
   "id": "united-dinner",
   "metadata": {
    "collapsed": false,
    "deletable": true,
    "editable": true,
    "jupyter": {
     "outputs_hidden": false
    }
   },
   "outputs": [],
   "source": [
    "## Ignore index when assessing feature importance\n",
    "importance.groupby(key_columns=['name'], operations={'count': agg.SUM('count')}).sort('count', ascending=False).print_rows(num_rows = 25)"
   ]
  },
  {
   "cell_type": "code",
   "execution_count": null,
   "id": "marine-china",
   "metadata": {
    "collapsed": false,
    "deletable": true,
    "editable": true,
    "jupyter": {
     "outputs_hidden": false
    }
   },
   "outputs": [],
   "source": [
    "## Use T-test to determine whether Proline mutations are significantly \n",
    "# more damaging that other amino acid variants.\n",
    "result = data_1per2.to_dataframe().groupby([ 'aa2','protein'])['scaled_effect1'].mean()\n",
    "result_AA = data_1per2.to_dataframe().groupby([ 'protein','aa2'])['scaled_effect1'].mean()\n",
    "result2 = result.unstack()\n",
    "result_AA2 = result_AA.unstack()\n",
    "ave = (result2).mean()\n",
    "P = result_AA2.P\n",
    "stats.ttest_ind(P, ave, equal_var = False)"
   ]
  },
  {
   "cell_type": "code",
   "execution_count": null,
   "id": "thirty-application",
   "metadata": {
    "collapsed": false,
    "deletable": true,
    "editable": true,
    "jupyter": {
     "outputs_hidden": false
    }
   },
   "outputs": [],
   "source": [
    "# Mean variant effect of all amino acids\n",
    "ave.mean()"
   ]
  },
  {
   "cell_type": "code",
   "execution_count": null,
   "id": "continuous-ecuador",
   "metadata": {
    "collapsed": false,
    "deletable": true,
    "editable": true,
    "jupyter": {
     "outputs_hidden": false
    }
   },
   "outputs": [],
   "source": [
    "## Heatmap showing the mean variant effect of each amino acid for each data set\n",
    "fig, ax = plt.subplots()\n",
    "plt.pcolor(result2, cmap='YlGnBu',vmin=0, vmax=1)\n",
    "ax.set_xticklabels(result2.axes[1], minor=False)\n",
    "ax.set_yticklabels(result2.axes[0], minor=False)\n",
    "ax.set_yticks(np.arange(result2.shape[0]) + 0.5, minor=False)\n",
    "ax.set_xticks(np.arange(result2.shape[1]) + 0.5, minor=False)\n",
    "plt.xticks(rotation='vertical')\n",
    "plt.colorbar()\n",
    "plt.show()"
   ]
  },
  {
   "cell_type": "code",
   "execution_count": null,
   "id": "dietary-cycling",
   "metadata": {
    "collapsed": false,
    "deletable": true,
    "editable": true,
    "jupyter": {
     "outputs_hidden": false
    }
   },
   "outputs": [],
   "source": [
    "## Predict proline mutations from each DMS and calc Pearson's R\n",
    "P = data_1per2.filter_by([x for x in data_1per2['aa2'].unique() if x in ['P']], 'aa2')\n",
    "predictions = global_regression_model_noSELCO.predict(P)\n",
    "predictions1 = gl.SFrame(predictions)\n",
    "predictions1.rename({'X1': 'Envision_predictions'})\n",
    "P2 = P.add_column(predictions1['Envision_predictions'])\n",
    "P2.rename({'X55': 'Envision_predictions'})"
   ]
  },
  {
   "cell_type": "code",
   "execution_count": null,
   "id": "restricted-external",
   "metadata": {
    "collapsed": false,
    "deletable": true,
    "editable": true,
    "jupyter": {
     "outputs_hidden": false
    },
    "scrolled": true
   },
   "outputs": [],
   "source": [
    "## Measure Envision predictive performance for each mutant amino acid (aa2) type separately\n",
    "## Method  =  Spearman\n",
    "data_1per2.to_dataframe().groupby(['aa2'])['scaled_effect1', 'Envision_predictions'].corr(method = 'spearman')"
   ]
  },
  {
   "cell_type": "code",
   "execution_count": null,
   "id": "frank-chart",
   "metadata": {
    "collapsed": false,
    "deletable": true,
    "editable": true,
    "jupyter": {
     "outputs_hidden": false
    }
   },
   "outputs": [],
   "source": [
    "## Measure Envision predictive performance for each original amino acid (aa1) type separately\n",
    "data_1per2.to_dataframe().groupby(['aa1'])['scaled_effect1', 'Envision_predictions'].corr()"
   ]
  },
  {
   "cell_type": "code",
   "execution_count": null,
   "id": "searching-local",
   "metadata": {
    "collapsed": false,
    "deletable": true,
    "editable": true,
    "jupyter": {
     "outputs_hidden": false
    }
   },
   "outputs": [],
   "source": [
    "#Measure Envision performance on proline mutations from each data set\n",
    "## Pearson correlation\n",
    "P2.to_dataframe().groupby(['dms_id'])['scaled_effect1', 'Envision_predictions'].corr()"
   ]
  },
  {
   "cell_type": "code",
   "execution_count": null,
   "id": "wooden-cattle",
   "metadata": {
    "collapsed": false,
    "deletable": true,
    "editable": true,
    "jupyter": {
     "outputs_hidden": false
    }
   },
   "outputs": [],
   "source": [
    "# Measure Envision performance on proline mutations across all data sets\n",
    "predictions = global_regression_model_noSELCO.predict(P2)\n",
    "stats.pearsonr(predictions,P2['scaled_effect1'])"
   ]
  },
  {
   "cell_type": "code",
   "execution_count": null,
   "id": "thorough-method",
   "metadata": {
    "collapsed": false,
    "deletable": true,
    "editable": true,
    "jupyter": {
     "outputs_hidden": false
    }
   },
   "outputs": [],
   "source": [
    "## Plot Envision predictions vs. observed variant effects for proline variants\n",
    "\n",
    "fig = plt.figure(figsize=(4,4))\n",
    "ax = fig.add_subplot(111)\n",
    "ax.set_xlabel('Predicted proline effect')\n",
    "ax.set_ylabel('Observed proline effect')\n",
    "ax.set_ylim([-0.2,1.6])\n",
    "ax.set_xlim([-0.2,1.6])\n",
    "im = ax.scatter(predictions,P2['scaled_effect1'])\n",
    "ax.axis('tight')\n",
    "#cb =fig.colorbar(im, ax=ax)\n",
    "#cb.set_label('Number of proline mutations (log)')\n",
    "plt.show()"
   ]
  },
  {
   "cell_type": "code",
   "execution_count": null,
   "id": "judicial-great",
   "metadata": {
    "collapsed": false,
    "deletable": true,
    "editable": true,
    "jupyter": {
     "outputs_hidden": false
    }
   },
   "outputs": [],
   "source": [
    "## Read in EVmutation predictions for tp53 mutatations and make a hexbinplot\n",
    "evMut_TP53 =  gl.SFrame.read_csv('~/data/EVmutation_TP53.csv')"
   ]
  },
  {
   "cell_type": "code",
   "execution_count": null,
   "id": "major-adelaide",
   "metadata": {
    "deletable": true,
    "editable": true
   },
   "outputs": [],
   "source": [
    "## Use pandas to format data structure\n",
    "evMut_TP53['tp53']=pd.to_numeric(evMut_TP53['tp53'])"
   ]
  },
  {
   "cell_type": "code",
   "execution_count": null,
   "id": "moderate-subject",
   "metadata": {
    "collapsed": false,
    "deletable": true,
    "editable": true,
    "jupyter": {
     "outputs_hidden": false
    }
   },
   "outputs": [],
   "source": [
    "## Measure correlation between TP53 observed variant effects and EVmutation - epistatic \n",
    "# predictions w/ Spearman algorithm\n",
    "stats.spearmanr(evMut_TP53['tp53'], evMut_TP53['prediction_epistatic'], nan_policy = 'omit' )"
   ]
  },
  {
   "cell_type": "code",
   "execution_count": null,
   "id": "detected-florence",
   "metadata": {
    "collapsed": false,
    "deletable": true,
    "editable": true,
    "jupyter": {
     "outputs_hidden": false
    }
   },
   "outputs": [],
   "source": [
    "## Measure correlation between TP53 observed variant effects and EVmutation - independent \n",
    "# predictions w/ Spearman algorithm\n",
    "stats.spearmanr(evMut_TP53['tp53'], evMut_TP53['prediction_independent'], nan_policy = 'omit' )"
   ]
  },
  {
   "cell_type": "code",
   "execution_count": null,
   "id": "polar-beginning",
   "metadata": {
    "collapsed": false,
    "deletable": true,
    "editable": true,
    "jupyter": {
     "outputs_hidden": false
    }
   },
   "outputs": [],
   "source": [
    "## For each original amino acid (wt) type, measure correlation between TP53 observed \n",
    "#variant effects and EVmutation - independent predictions w/ Spearman algorithm\n",
    "evMut_TP53.to_dataframe().groupby(['wt'])['tp53', 'prediction_independent'].corr()"
   ]
  },
  {
   "cell_type": "code",
   "execution_count": null,
   "id": "final-wagon",
   "metadata": {
    "collapsed": false,
    "deletable": true,
    "editable": true,
    "jupyter": {
     "outputs_hidden": false
    }
   },
   "outputs": [],
   "source": [
    "## For each mutant amino acid (subs) type, measure correlation between TP53 observed \n",
    "#variant effects and EVmutation - independent predictions w/ Pearson algorithm\n",
    "evMut_TP53.to_dataframe().groupby(['subs'])['tp53', 'prediction_independent'].corr()"
   ]
  },
  {
   "cell_type": "code",
   "execution_count": null,
   "id": "dangerous-runner",
   "metadata": {
    "collapsed": false,
    "deletable": true,
    "editable": true,
    "jupyter": {
     "outputs_hidden": false
    }
   },
   "outputs": [],
   "source": [
    "## For each mutant amino acid (subs) type, measure correlation between TP53 observed \n",
    "#variant effects and EVmutation - epistatic predictions w/ Spearman algorithm\n",
    "evMut_TP53.to_dataframe().groupby(['subs'])['tp53', 'prediction_epistatic'].corr(method='spearman')"
   ]
  },
  {
   "cell_type": "code",
   "execution_count": null,
   "id": "canadian-unemployment",
   "metadata": {
    "collapsed": false,
    "deletable": true,
    "editable": true,
    "jupyter": {
     "outputs_hidden": false
    }
   },
   "outputs": [],
   "source": [
    "## For each original amino acid (wt) type, measure correlation between TP53 observed \n",
    "#variant effects and EVmutation - epistatic predictions w/ Spearman algorithm\n",
    "evMut_TP53.to_dataframe().groupby(['wt'])['tp53', 'prediction_epistatic'].corr(method='spearman')"
   ]
  }
 ],
 "metadata": {
  "kernelspec": {
   "display_name": "seminar-kernel",
   "language": "python",
   "name": "seminar-kernel"
  },
  "language_info": {
   "codemirror_mode": {
    "name": "ipython",
    "version": 3
   },
   "file_extension": ".py",
   "mimetype": "text/x-python",
   "name": "python",
   "nbconvert_exporter": "python",
   "pygments_lexer": "ipython3",
   "version": "3.8.10"
  }
 },
 "nbformat": 4,
 "nbformat_minor": 5
}
